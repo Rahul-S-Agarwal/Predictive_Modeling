{
 "cells": [
  {
   "cell_type": "code",
   "execution_count": 1,
   "id": "8129203a",
   "metadata": {},
   "outputs": [],
   "source": [
    "import pandas as pd\n",
    "import numpy as np\n",
    "import seaborn as sns\n",
    "import matplotlib.pyplot as plt\n",
    "from sklearn.model_selection import train_test_split\n",
    "from sklearn.metrics import classification_report, confusion_matrix\n",
    "import statsmodels.api as sm \n",
    "from sklearn.tree import DecisionTreeClassifier\n",
    "from sklearn.ensemble import RandomForestClassifier\n",
    "from sklearn.ensemble import GradientBoostingClassifier"
   ]
  },
  {
   "cell_type": "code",
   "execution_count": 2,
   "id": "95de837e",
   "metadata": {},
   "outputs": [
    {
     "data": {
      "text/html": [
       "<div>\n",
       "<style scoped>\n",
       "    .dataframe tbody tr th:only-of-type {\n",
       "        vertical-align: middle;\n",
       "    }\n",
       "\n",
       "    .dataframe tbody tr th {\n",
       "        vertical-align: top;\n",
       "    }\n",
       "\n",
       "    .dataframe thead th {\n",
       "        text-align: right;\n",
       "    }\n",
       "</style>\n",
       "<table border=\"1\" class=\"dataframe\">\n",
       "  <thead>\n",
       "    <tr style=\"text-align: right;\">\n",
       "      <th></th>\n",
       "      <th>Unnamed: 0</th>\n",
       "      <th>Parcel ID</th>\n",
       "      <th>Land Use</th>\n",
       "      <th>Property Address</th>\n",
       "      <th>Suite/ Condo   #</th>\n",
       "      <th>Property City</th>\n",
       "      <th>Sale Date</th>\n",
       "      <th>Legal Reference</th>\n",
       "      <th>Sold As Vacant</th>\n",
       "      <th>Multiple Parcels Involved in Sale</th>\n",
       "      <th>...</th>\n",
       "      <th>Building Value</th>\n",
       "      <th>Finished Area</th>\n",
       "      <th>Foundation Type</th>\n",
       "      <th>Year Built</th>\n",
       "      <th>Exterior Wall</th>\n",
       "      <th>Grade</th>\n",
       "      <th>Bedrooms</th>\n",
       "      <th>Full Bath</th>\n",
       "      <th>Half Bath</th>\n",
       "      <th>Sale Price Compared To Value</th>\n",
       "    </tr>\n",
       "  </thead>\n",
       "  <tbody>\n",
       "    <tr>\n",
       "      <th>0</th>\n",
       "      <td>1</td>\n",
       "      <td>105 11 0 080.00</td>\n",
       "      <td>SINGLE FAMILY</td>\n",
       "      <td>1802  STEWART PL</td>\n",
       "      <td>NaN</td>\n",
       "      <td>NASHVILLE</td>\n",
       "      <td>1/11/2013</td>\n",
       "      <td>20130118-0006337</td>\n",
       "      <td>No</td>\n",
       "      <td>No</td>\n",
       "      <td>...</td>\n",
       "      <td>134400</td>\n",
       "      <td>1149.00000</td>\n",
       "      <td>PT BSMT</td>\n",
       "      <td>1941</td>\n",
       "      <td>BRICK</td>\n",
       "      <td>C</td>\n",
       "      <td>2.0</td>\n",
       "      <td>1.0</td>\n",
       "      <td>0.0</td>\n",
       "      <td>Over</td>\n",
       "    </tr>\n",
       "    <tr>\n",
       "      <th>1</th>\n",
       "      <td>2</td>\n",
       "      <td>118 03 0 130.00</td>\n",
       "      <td>SINGLE FAMILY</td>\n",
       "      <td>2761  ROSEDALE PL</td>\n",
       "      <td>NaN</td>\n",
       "      <td>NASHVILLE</td>\n",
       "      <td>1/18/2013</td>\n",
       "      <td>20130124-0008033</td>\n",
       "      <td>No</td>\n",
       "      <td>No</td>\n",
       "      <td>...</td>\n",
       "      <td>157800</td>\n",
       "      <td>2090.82495</td>\n",
       "      <td>SLAB</td>\n",
       "      <td>2000</td>\n",
       "      <td>BRICK/FRAME</td>\n",
       "      <td>C</td>\n",
       "      <td>3.0</td>\n",
       "      <td>2.0</td>\n",
       "      <td>1.0</td>\n",
       "      <td>Over</td>\n",
       "    </tr>\n",
       "    <tr>\n",
       "      <th>2</th>\n",
       "      <td>3</td>\n",
       "      <td>119 01 0 479.00</td>\n",
       "      <td>SINGLE FAMILY</td>\n",
       "      <td>224  PEACHTREE ST</td>\n",
       "      <td>NaN</td>\n",
       "      <td>NASHVILLE</td>\n",
       "      <td>1/18/2013</td>\n",
       "      <td>20130128-0008863</td>\n",
       "      <td>No</td>\n",
       "      <td>No</td>\n",
       "      <td>...</td>\n",
       "      <td>243700</td>\n",
       "      <td>2145.60001</td>\n",
       "      <td>FULL BSMT</td>\n",
       "      <td>1948</td>\n",
       "      <td>BRICK/FRAME</td>\n",
       "      <td>B</td>\n",
       "      <td>4.0</td>\n",
       "      <td>2.0</td>\n",
       "      <td>0.0</td>\n",
       "      <td>Under</td>\n",
       "    </tr>\n",
       "    <tr>\n",
       "      <th>3</th>\n",
       "      <td>4</td>\n",
       "      <td>119 05 0 186.00</td>\n",
       "      <td>SINGLE FAMILY</td>\n",
       "      <td>316  LUTIE ST</td>\n",
       "      <td>NaN</td>\n",
       "      <td>NASHVILLE</td>\n",
       "      <td>1/23/2013</td>\n",
       "      <td>20130131-0009929</td>\n",
       "      <td>No</td>\n",
       "      <td>No</td>\n",
       "      <td>...</td>\n",
       "      <td>138100</td>\n",
       "      <td>1969.00000</td>\n",
       "      <td>CRAWL</td>\n",
       "      <td>1910</td>\n",
       "      <td>FRAME</td>\n",
       "      <td>C</td>\n",
       "      <td>2.0</td>\n",
       "      <td>1.0</td>\n",
       "      <td>0.0</td>\n",
       "      <td>Under</td>\n",
       "    </tr>\n",
       "    <tr>\n",
       "      <th>4</th>\n",
       "      <td>5</td>\n",
       "      <td>119 05 0 387.00</td>\n",
       "      <td>SINGLE FAMILY</td>\n",
       "      <td>2626  FOSTER AVE</td>\n",
       "      <td>NaN</td>\n",
       "      <td>NASHVILLE</td>\n",
       "      <td>1/4/2013</td>\n",
       "      <td>20130118-0006110</td>\n",
       "      <td>No</td>\n",
       "      <td>No</td>\n",
       "      <td>...</td>\n",
       "      <td>86100</td>\n",
       "      <td>1037.00000</td>\n",
       "      <td>CRAWL</td>\n",
       "      <td>1945</td>\n",
       "      <td>FRAME</td>\n",
       "      <td>C</td>\n",
       "      <td>2.0</td>\n",
       "      <td>1.0</td>\n",
       "      <td>0.0</td>\n",
       "      <td>Under</td>\n",
       "    </tr>\n",
       "  </tbody>\n",
       "</table>\n",
       "<p>5 rows × 26 columns</p>\n",
       "</div>"
      ],
      "text/plain": [
       "   Unnamed: 0        Parcel ID       Land Use   Property Address  \\\n",
       "0           1  105 11 0 080.00  SINGLE FAMILY   1802  STEWART PL   \n",
       "1           2  118 03 0 130.00  SINGLE FAMILY  2761  ROSEDALE PL   \n",
       "2           3  119 01 0 479.00  SINGLE FAMILY  224  PEACHTREE ST   \n",
       "3           4  119 05 0 186.00  SINGLE FAMILY      316  LUTIE ST   \n",
       "4           5  119 05 0 387.00  SINGLE FAMILY   2626  FOSTER AVE   \n",
       "\n",
       "   Suite/ Condo   # Property City  Sale Date   Legal Reference Sold As Vacant  \\\n",
       "0               NaN     NASHVILLE  1/11/2013  20130118-0006337             No   \n",
       "1               NaN     NASHVILLE  1/18/2013  20130124-0008033             No   \n",
       "2               NaN     NASHVILLE  1/18/2013  20130128-0008863             No   \n",
       "3               NaN     NASHVILLE  1/23/2013  20130131-0009929             No   \n",
       "4               NaN     NASHVILLE   1/4/2013  20130118-0006110             No   \n",
       "\n",
       "  Multiple Parcels Involved in Sale  ... Building Value Finished Area  \\\n",
       "0                                No  ...         134400    1149.00000   \n",
       "1                                No  ...         157800    2090.82495   \n",
       "2                                No  ...         243700    2145.60001   \n",
       "3                                No  ...         138100    1969.00000   \n",
       "4                                No  ...          86100    1037.00000   \n",
       "\n",
       "   Foundation Type Year Built  Exterior Wall  Grade  Bedrooms  Full Bath  \\\n",
       "0          PT BSMT       1941          BRICK   C          2.0        1.0   \n",
       "1             SLAB       2000    BRICK/FRAME   C          3.0        2.0   \n",
       "2        FULL BSMT       1948    BRICK/FRAME   B          4.0        2.0   \n",
       "3            CRAWL       1910          FRAME   C          2.0        1.0   \n",
       "4            CRAWL       1945          FRAME   C          2.0        1.0   \n",
       "\n",
       "  Half Bath  Sale Price Compared To Value  \n",
       "0       0.0                          Over  \n",
       "1       1.0                          Over  \n",
       "2       0.0                         Under  \n",
       "3       0.0                         Under  \n",
       "4       0.0                         Under  \n",
       "\n",
       "[5 rows x 26 columns]"
      ]
     },
     "execution_count": 2,
     "metadata": {},
     "output_type": "execute_result"
    }
   ],
   "source": [
    "df = pd.read_csv('Nashville_housing_data.csv')\n",
    "df.head(5)"
   ]
  },
  {
   "cell_type": "code",
   "execution_count": 3,
   "id": "9fbc1151",
   "metadata": {},
   "outputs": [
    {
     "data": {
      "text/plain": [
       "Unnamed: 0                             int64\n",
       "Parcel ID                             object\n",
       "Land Use                              object\n",
       "Property Address                      object\n",
       "Suite/ Condo   #                     float64\n",
       "Property City                         object\n",
       "Sale Date                             object\n",
       "Legal Reference                       object\n",
       "Sold As Vacant                        object\n",
       "Multiple Parcels Involved in Sale     object\n",
       "City                                  object\n",
       "State                                 object\n",
       "Acreage                              float64\n",
       "Tax District                          object\n",
       "Neighborhood                           int64\n",
       "Land Value                             int64\n",
       "Building Value                         int64\n",
       "Finished Area                        float64\n",
       "Foundation Type                       object\n",
       "Year Built                             int64\n",
       "Exterior Wall                         object\n",
       "Grade                                 object\n",
       "Bedrooms                             float64\n",
       "Full Bath                            float64\n",
       "Half Bath                            float64\n",
       "Sale Price Compared To Value          object\n",
       "dtype: object"
      ]
     },
     "execution_count": 3,
     "metadata": {},
     "output_type": "execute_result"
    }
   ],
   "source": [
    "df.dtypes"
   ]
  },
  {
   "cell_type": "code",
   "execution_count": 4,
   "id": "c5169837",
   "metadata": {},
   "outputs": [
    {
     "name": "stdout",
     "output_type": "stream",
     "text": [
      "Index(['Unnamed_0', 'Parcel_ID', 'Land_Use', 'Property_Address',\n",
      "       'Suite_Condo_#', 'Property_City', 'Sale_Date', 'Legal_Reference',\n",
      "       'Sold_As_Vacant', 'Multiple_Parcels_Involved_in_Sale', 'City', 'State',\n",
      "       'Acreage', 'Tax_District', 'Neighborhood', 'Land_Value',\n",
      "       'Building_Value', 'Finished_Area', 'Foundation_Type', 'Year_Built',\n",
      "       'Exterior_Wall', 'Grade', 'Bedrooms', 'Full_Bath', 'Half_Bath',\n",
      "       'Sale_Price_Compared_To_Value'],\n",
      "      dtype='object')\n"
     ]
    }
   ],
   "source": [
    "# Renaming the columns:\n",
    "\n",
    "# Create a dictionary to store the old and new column names\n",
    "column_mapping = {\n",
    "    'Unnamed: 0': 'Unnamed_0',\n",
    "    'Parcel ID': 'Parcel_ID',\n",
    "    'Land Use': 'Land_Use',\n",
    "    'Property Address': 'Property_Address',\n",
    "    'Suite/ Condo   #': 'Suite_Condo_#',\n",
    "    'Property City': 'Property_City',\n",
    "    'Sale Date': 'Sale_Date',\n",
    "    'Legal Reference': 'Legal_Reference',\n",
    "    'Sold As Vacant': 'Sold_As_Vacant',\n",
    "    'Multiple Parcels Involved in Sale': 'Multiple_Parcels_Involved_in_Sale',\n",
    "    'Tax District': 'Tax_District',\n",
    "    'Land Value': 'Land_Value',\n",
    "    'Building Value': 'Building_Value',\n",
    "    'Finished Area': 'Finished_Area',\n",
    "    'Foundation Type': 'Foundation_Type',\n",
    "    'Year Built': 'Year_Built',\n",
    "    'Exterior Wall': 'Exterior_Wall',\n",
    "    'Full Bath': 'Full_Bath',\n",
    "    'Half Bath': 'Half_Bath',\n",
    "    'Sale Price Compared To Value': 'Sale_Price_Compared_To_Value'\n",
    "}\n",
    "df.rename(columns=column_mapping, inplace=True)        # Rename the columns using the mapping\n",
    "print(df.columns)                                      # Print the updated column names"
   ]
  },
  {
   "cell_type": "code",
   "execution_count": 5,
   "id": "cde811bb",
   "metadata": {},
   "outputs": [
    {
     "data": {
      "text/plain": [
       "Unnamed_0                                0\n",
       "Parcel_ID                                0\n",
       "Land_Use                                 0\n",
       "Property_Address                         2\n",
       "Suite_Condo_#                        22651\n",
       "Property_City                            2\n",
       "Sale_Date                                0\n",
       "Legal_Reference                          0\n",
       "Sold_As_Vacant                           0\n",
       "Multiple_Parcels_Involved_in_Sale        0\n",
       "City                                     0\n",
       "State                                    0\n",
       "Acreage                                  0\n",
       "Tax_District                             0\n",
       "Neighborhood                             0\n",
       "Land_Value                               0\n",
       "Building_Value                           0\n",
       "Finished_Area                            1\n",
       "Foundation_Type                          1\n",
       "Year_Built                               0\n",
       "Exterior_Wall                            0\n",
       "Grade                                    0\n",
       "Bedrooms                                 3\n",
       "Full_Bath                                1\n",
       "Half_Bath                              108\n",
       "Sale_Price_Compared_To_Value             0\n",
       "dtype: int64"
      ]
     },
     "execution_count": 5,
     "metadata": {},
     "output_type": "execute_result"
    }
   ],
   "source": [
    "df.isnull().sum()"
   ]
  },
  {
   "cell_type": "code",
   "execution_count": 6,
   "id": "71a4f353",
   "metadata": {},
   "outputs": [],
   "source": [
    "# Dropping the column \"Suite_Condo_#\" as all of the 100% data is unavailable:\n",
    "df = df.drop(columns=['Suite_Condo_#'], axis=1)\n",
    "\n",
    "# Since less than 1% of data has null values, dropping them won't affect out Data Quality:\n",
    "df=df.dropna()\n",
    "\n",
    "# Dropping Columns Irrelevant to the study:\n",
    "df = df.drop(columns=['Unnamed_0','Parcel_ID','Legal_Reference','Property_City'], axis=1)"
   ]
  },
  {
   "cell_type": "code",
   "execution_count": 7,
   "id": "fabc0a34",
   "metadata": {},
   "outputs": [
    {
     "data": {
      "text/plain": [
       "SINGLE FAMILY             21282\n",
       "DUPLEX                     1184\n",
       "RESIDENTIAL COMBO/MISC       36\n",
       "QUADPLEX                     34\n",
       "Name: Land_Use, dtype: int64"
      ]
     },
     "execution_count": 7,
     "metadata": {},
     "output_type": "execute_result"
    }
   ],
   "source": [
    "df[\"Land_Use\"].value_counts()"
   ]
  },
  {
   "cell_type": "code",
   "execution_count": 8,
   "id": "d24a35dd",
   "metadata": {},
   "outputs": [
    {
     "data": {
      "text/plain": [
       "SINGLE FAMILY             21282\n",
       "RESIDENTIAL COMBO/MISC     1254\n",
       "Name: Land_Use, dtype: int64"
      ]
     },
     "execution_count": 8,
     "metadata": {},
     "output_type": "execute_result"
    }
   ],
   "source": [
    "# As Duplex and Quadplex comes under Residential Properties we group them under residential combo\n",
    "df['Land_Use']=np.where(df['Land_Use'] =='DUPLEX', 'RESIDENTIAL COMBO/MISC', df['Land_Use'])\n",
    "df['Land_Use']=np.where(df['Land_Use'] =='QUADPLEX', 'RESIDENTIAL COMBO/MISC', df['Land_Use'])\n",
    "df[\"Land_Use\"].value_counts()"
   ]
  },
  {
   "cell_type": "code",
   "execution_count": 9,
   "id": "59cb8921",
   "metadata": {},
   "outputs": [
    {
     "data": {
      "text/plain": [
       "No     22402\n",
       "Yes      134\n",
       "Name: Sold_As_Vacant, dtype: int64"
      ]
     },
     "execution_count": 9,
     "metadata": {},
     "output_type": "execute_result"
    }
   ],
   "source": [
    "df[\"Sold_As_Vacant\"].value_counts()"
   ]
  },
  {
   "cell_type": "code",
   "execution_count": 10,
   "id": "ca0f7fa0",
   "metadata": {},
   "outputs": [
    {
     "data": {
      "text/plain": [
       "No     22069\n",
       "Yes      467\n",
       "Name: Multiple_Parcels_Involved_in_Sale, dtype: int64"
      ]
     },
     "execution_count": 10,
     "metadata": {},
     "output_type": "execute_result"
    }
   ],
   "source": [
    "df[\"Multiple_Parcels_Involved_in_Sale\"].value_counts()"
   ]
  },
  {
   "cell_type": "code",
   "execution_count": 11,
   "id": "4df93908",
   "metadata": {},
   "outputs": [
    {
     "data": {
      "text/plain": [
       "NASHVILLE         17926\n",
       "MADISON            1145\n",
       "ANTIOCH            1133\n",
       "HERMITAGE           913\n",
       "OLD HICKORY         797\n",
       "GOODLETTSVILLE      435\n",
       "BRENTWOOD           157\n",
       "WHITES CREEK         13\n",
       "JOELTON              11\n",
       "MOUNT JULIET          6\n",
       "Name: City, dtype: int64"
      ]
     },
     "execution_count": 11,
     "metadata": {},
     "output_type": "execute_result"
    }
   ],
   "source": [
    "df[\"City\"].value_counts()"
   ]
  },
  {
   "cell_type": "code",
   "execution_count": 12,
   "id": "1a00ee19",
   "metadata": {},
   "outputs": [
    {
     "data": {
      "text/plain": [
       "TN    22536\n",
       "Name: State, dtype: int64"
      ]
     },
     "execution_count": 12,
     "metadata": {},
     "output_type": "execute_result"
    }
   ],
   "source": [
    "df[\"State\"].value_counts()"
   ]
  },
  {
   "cell_type": "code",
   "execution_count": 13,
   "id": "1930ab0d",
   "metadata": {},
   "outputs": [
    {
     "data": {
      "text/plain": [
       "URBAN SERVICES DISTRICT      17411\n",
       "GENERAL SERVICES DISTRICT     3853\n",
       "CITY OF OAK HILL               348\n",
       "CITY OF FOREST HILLS           345\n",
       "CITY OF GOODLETTSVILLE         344\n",
       "CITY OF BELLE MEADE            214\n",
       "CITY OF BERRY HILL              21\n",
       "Name: Tax_District, dtype: int64"
      ]
     },
     "execution_count": 13,
     "metadata": {},
     "output_type": "execute_result"
    }
   ],
   "source": [
    "df[\"Tax_District\"].value_counts()"
   ]
  },
  {
   "cell_type": "code",
   "execution_count": 14,
   "id": "500a9c58",
   "metadata": {},
   "outputs": [
    {
     "data": {
      "text/plain": [
       "CRAWL        14148\n",
       "FULL BSMT     3802\n",
       "PT BSMT       3121\n",
       "SLAB          1427\n",
       "PIERS           36\n",
       "TYPICAL          2\n",
       "Name: Foundation_Type, dtype: int64"
      ]
     },
     "execution_count": 14,
     "metadata": {},
     "output_type": "execute_result"
    }
   ],
   "source": [
    "df[\"Foundation_Type\"].value_counts()"
   ]
  },
  {
   "cell_type": "code",
   "execution_count": 15,
   "id": "d0d91c27",
   "metadata": {},
   "outputs": [
    {
     "data": {
      "text/plain": [
       "CRAWL        14186\n",
       "FULL BSMT     3802\n",
       "PT BSMT       3121\n",
       "SLAB          1427\n",
       "Name: Foundation_Type, dtype: int64"
      ]
     },
     "execution_count": 15,
     "metadata": {},
     "output_type": "execute_result"
    }
   ],
   "source": [
    "# PIERS and TYPICAL Foundation Type comes under CRAWL Foundation Type\n",
    "df['Foundation_Type']=np.where(df['Foundation_Type'] =='PIERS', 'CRAWL', df['Foundation_Type'])\n",
    "df['Foundation_Type']=np.where(df['Foundation_Type'] =='TYPICAL', 'CRAWL', df['Foundation_Type'])\n",
    "df[\"Foundation_Type\"].value_counts()"
   ]
  },
  {
   "cell_type": "code",
   "execution_count": 16,
   "id": "71d92bec",
   "metadata": {},
   "outputs": [
    {
     "data": {
      "text/plain": [
       "BRICK          11512\n",
       "FRAME           8098\n",
       "BRICK/FRAME     2217\n",
       "STONE            328\n",
       "STUCCO           156\n",
       "FRAME/STONE      104\n",
       "CONC BLK          99\n",
       "LOG               15\n",
       "METAL              7\n",
       "Name: Exterior_Wall, dtype: int64"
      ]
     },
     "execution_count": 16,
     "metadata": {},
     "output_type": "execute_result"
    }
   ],
   "source": [
    "df[\"Exterior_Wall\"].value_counts()"
   ]
  },
  {
   "cell_type": "code",
   "execution_count": 17,
   "id": "e0f830b6",
   "metadata": {},
   "outputs": [
    {
     "data": {
      "text/plain": [
       "C       16162\n",
       "B        3375\n",
       "D        1911\n",
       "A         547\n",
       "X         482\n",
       "E          57\n",
       "SSC         1\n",
       "OFB         1\n",
       "Name: Grade, dtype: int64"
      ]
     },
     "execution_count": 17,
     "metadata": {},
     "output_type": "execute_result"
    }
   ],
   "source": [
    "df[\"Grade\"].value_counts()"
   ]
  },
  {
   "cell_type": "code",
   "execution_count": 18,
   "id": "d7b62175",
   "metadata": {},
   "outputs": [
    {
     "data": {
      "text/plain": [
       "C       16162\n",
       "B        3375\n",
       "D        1911\n",
       "A         547\n",
       "X         482\n",
       "E          57\n",
       "SSC         1\n",
       "OFB         1\n",
       "Name: Grade, dtype: int64"
      ]
     },
     "execution_count": 18,
     "metadata": {},
     "output_type": "execute_result"
    }
   ],
   "source": [
    "# SSC and OFB Grades comes under lowest 'E' grade:\n",
    "df['Grade']=np.where(df['Grade'] =='SSC', 'E', df['Grade'])\n",
    "df['Grade']=np.where(df['Grade'] =='OFB', 'E', df['Grade'])\n",
    "df[\"Grade\"].value_counts()"
   ]
  },
  {
   "cell_type": "code",
   "execution_count": 19,
   "id": "379d8b0a",
   "metadata": {},
   "outputs": [
    {
     "data": {
      "text/plain": [
       "3.0     12192\n",
       "4.0      4621\n",
       "2.0      4572\n",
       "5.0       819\n",
       "6.0       194\n",
       "1.0        79\n",
       "7.0        29\n",
       "8.0        21\n",
       "0.0         4\n",
       "10.0        2\n",
       "9.0         2\n",
       "11.0        1\n",
       "Name: Bedrooms, dtype: int64"
      ]
     },
     "execution_count": 19,
     "metadata": {},
     "output_type": "execute_result"
    }
   ],
   "source": [
    "df[\"Bedrooms\"].value_counts()"
   ]
  },
  {
   "cell_type": "code",
   "execution_count": 20,
   "id": "3ec47dd7",
   "metadata": {},
   "outputs": [
    {
     "data": {
      "text/plain": [
       "Over     16979\n",
       "Under     5557\n",
       "Name: Sale_Price_Compared_To_Value, dtype: int64"
      ]
     },
     "execution_count": 20,
     "metadata": {},
     "output_type": "execute_result"
    }
   ],
   "source": [
    "df[\"Sale_Price_Compared_To_Value\"].value_counts()"
   ]
  },
  {
   "cell_type": "code",
   "execution_count": 21,
   "id": "21a80f2b",
   "metadata": {},
   "outputs": [],
   "source": [
    "# As the Data is from a single state TN, We can drop the column and columns irrelevant to the study\n",
    "df = df.drop(columns=['State','Property_Address','Sale_Date','Year_Built'], axis=1)"
   ]
  },
  {
   "cell_type": "code",
   "execution_count": 22,
   "id": "3fb4e13b",
   "metadata": {},
   "outputs": [
    {
     "data": {
      "text/plain": [
       "Land_Use                              object\n",
       "Sold_As_Vacant                        object\n",
       "Multiple_Parcels_Involved_in_Sale     object\n",
       "City                                  object\n",
       "Acreage                              float64\n",
       "Tax_District                          object\n",
       "Neighborhood                           int64\n",
       "Land_Value                             int64\n",
       "Building_Value                         int64\n",
       "Finished_Area                        float64\n",
       "Foundation_Type                       object\n",
       "Exterior_Wall                         object\n",
       "Grade                                 object\n",
       "Bedrooms                             float64\n",
       "Full_Bath                            float64\n",
       "Half_Bath                            float64\n",
       "Sale_Price_Compared_To_Value          object\n",
       "dtype: object"
      ]
     },
     "execution_count": 22,
     "metadata": {},
     "output_type": "execute_result"
    }
   ],
   "source": [
    "df.dtypes"
   ]
  },
  {
   "cell_type": "code",
   "execution_count": 23,
   "id": "dcf0b3f8",
   "metadata": {},
   "outputs": [
    {
     "data": {
      "text/plain": [
       "array([[<AxesSubplot:title={'center':'Acreage'}>,\n",
       "        <AxesSubplot:title={'center':'Neighborhood'}>,\n",
       "        <AxesSubplot:title={'center':'Land_Value'}>],\n",
       "       [<AxesSubplot:title={'center':'Building_Value'}>,\n",
       "        <AxesSubplot:title={'center':'Finished_Area'}>,\n",
       "        <AxesSubplot:title={'center':'Bedrooms'}>],\n",
       "       [<AxesSubplot:title={'center':'Full_Bath'}>,\n",
       "        <AxesSubplot:title={'center':'Half_Bath'}>, <AxesSubplot:>]],\n",
       "      dtype=object)"
      ]
     },
     "execution_count": 23,
     "metadata": {},
     "output_type": "execute_result"
    },
    {
     "data": {
      "image/png": "[encoded data removed]",
      "text/plain": [
       "<Figure size 640x480 with 9 Axes>"
      ]
     },
     "metadata": {},
     "output_type": "display_data"
    }
   ],
   "source": [
    "df.hist()"
   ]
  },
  {
   "cell_type": "code",
   "execution_count": 24,
   "id": "ce3cc099",
   "metadata": {
    "scrolled": false
   },
   "outputs": [
    {
     "data": {
      "text/plain": [
       "<AxesSubplot:xlabel='Sale_Price_Compared_To_Value', ylabel='count'>"
      ]
     },
     "execution_count": 24,
     "metadata": {},
     "output_type": "execute_result"
    },
    {
     "data": {
      "image/png": "[encoded data removed]",
      "text/plain": [
       "<Figure size 640x480 with 1 Axes>"
      ]
     },
     "metadata": {},
     "output_type": "display_data"
    }
   ],
   "source": [
    "sns.countplot(x='Sale_Price_Compared_To_Value', data=df)"
   ]
  },
  {
   "cell_type": "code",
   "execution_count": 25,
   "id": "298a6179",
   "metadata": {
    "scrolled": false
   },
   "outputs": [
    {
     "ename": "IndexError",
     "evalue": "index 8 is out of bounds for axis 0 with size 8",
     "output_type": "error",
     "traceback": [
      "\u001b[1;31m---------------------------------------------------------------------------\u001b[0m",
      "\u001b[1;31mIndexError\u001b[0m                                Traceback (most recent call last)",
      "\u001b[1;32m~\\AppData\\Local\\Temp\\ipykernel_8624\\1767432605.py\u001b[0m in \u001b[0;36m<module>\u001b[1;34m\u001b[0m\n\u001b[0;32m      4\u001b[0m \u001b[1;31m# Generate histograms for each column and adjust spacing\u001b[0m\u001b[1;33m\u001b[0m\u001b[1;33m\u001b[0m\u001b[0m\n\u001b[0;32m      5\u001b[0m \u001b[1;32mfor\u001b[0m \u001b[0mi\u001b[0m\u001b[1;33m,\u001b[0m \u001b[0mcol\u001b[0m \u001b[1;32min\u001b[0m \u001b[0menumerate\u001b[0m\u001b[1;33m(\u001b[0m\u001b[0mdf\u001b[0m\u001b[1;33m.\u001b[0m\u001b[0mcolumns\u001b[0m\u001b[1;33m)\u001b[0m\u001b[1;33m:\u001b[0m\u001b[1;33m\u001b[0m\u001b[1;33m\u001b[0m\u001b[0m\n\u001b[1;32m----> 6\u001b[1;33m     \u001b[0max\u001b[0m \u001b[1;33m=\u001b[0m \u001b[0maxes\u001b[0m\u001b[1;33m[\u001b[0m\u001b[0mi\u001b[0m\u001b[1;33m]\u001b[0m\u001b[1;33m\u001b[0m\u001b[1;33m\u001b[0m\u001b[0m\n\u001b[0m\u001b[0;32m      7\u001b[0m     \u001b[0max\u001b[0m\u001b[1;33m.\u001b[0m\u001b[0mhist\u001b[0m\u001b[1;33m(\u001b[0m\u001b[0mdf\u001b[0m\u001b[1;33m[\u001b[0m\u001b[0mcol\u001b[0m\u001b[1;33m]\u001b[0m\u001b[1;33m,\u001b[0m \u001b[0mbins\u001b[0m\u001b[1;33m=\u001b[0m\u001b[1;36m20\u001b[0m\u001b[1;33m)\u001b[0m\u001b[1;33m\u001b[0m\u001b[1;33m\u001b[0m\u001b[0m\n\u001b[0;32m      8\u001b[0m     \u001b[0max\u001b[0m\u001b[1;33m.\u001b[0m\u001b[0mset_title\u001b[0m\u001b[1;33m(\u001b[0m\u001b[0mcol\u001b[0m\u001b[1;33m)\u001b[0m\u001b[1;33m\u001b[0m\u001b[1;33m\u001b[0m\u001b[0m\n",
      "\u001b[1;31mIndexError\u001b[0m: index 8 is out of bounds for axis 0 with size 8"
     ]
    },
    {
     "data": {
      "image/png": "[encoded data removed]",
      "text/plain": [
       "<Figure size 1000x3000 with 8 Axes>"
      ]
     },
     "metadata": {},
     "output_type": "display_data"
    }
   ],
   "source": [
    "# Create subplots with 8 histograms:\n",
    "\n",
    "fig, axes = plt.subplots(nrows=8, ncols=1, figsize=(10, 30))\n",
    "# Generate histograms for each column and adjust spacing\n",
    "for i, col in enumerate(df.columns):\n",
    "    ax = axes[i]\n",
    "    ax.hist(df[col], bins=20)\n",
    "    ax.set_title(col)\n",
    "    # Rotate x-axis labels by 50 degrees\n",
    "    plt.setp(ax.get_xticklabels(), rotation=10, ha='right')\n",
    "# Adjust spacing between subplots\n",
    "plt.subplots_adjust(hspace=0.5)\n",
    "plt.show()"
   ]
  },
  {
   "cell_type": "code",
   "execution_count": 26,
   "id": "e4b9606a",
   "metadata": {},
   "outputs": [
    {
     "data": {
      "text/plain": [
       "{'whiskers': [<matplotlib.lines.Line2D at 0x18e89954520>,\n",
       "  <matplotlib.lines.Line2D at 0x18e89954820>],\n",
       " 'caps': [<matplotlib.lines.Line2D at 0x18e89954af0>,\n",
       "  <matplotlib.lines.Line2D at 0x18e89954dc0>],\n",
       " 'boxes': [<matplotlib.lines.Line2D at 0x18e89954250>],\n",
       " 'medians': [<matplotlib.lines.Line2D at 0x18e8995d0d0>],\n",
       " 'fliers': [<matplotlib.lines.Line2D at 0x18e8995d3a0>],\n",
       " 'means': []}"
      ]
     },
     "execution_count": 26,
     "metadata": {},
     "output_type": "execute_result"
    },
    {
     "data": {
      "image/png": "[encoded data removed]",
      "text/plain": [
       "<Figure size 640x480 with 1 Axes>"
      ]
     },
     "metadata": {},
     "output_type": "display_data"
    }
   ],
   "source": [
    "plt.boxplot(df['Building_Value'])"
   ]
  },
  {
   "cell_type": "code",
   "execution_count": 27,
   "id": "3dc04ef8",
   "metadata": {},
   "outputs": [
    {
     "data": {
      "text/plain": [
       "{'whiskers': [<matplotlib.lines.Line2D at 0x18e88cfb460>,\n",
       "  <matplotlib.lines.Line2D at 0x18e88cfb730>],\n",
       " 'caps': [<matplotlib.lines.Line2D at 0x18e88cfba00>,\n",
       "  <matplotlib.lines.Line2D at 0x18e88cfbcd0>],\n",
       " 'boxes': [<matplotlib.lines.Line2D at 0x18e88cfb2b0>],\n",
       " 'medians': [<matplotlib.lines.Line2D at 0x18e88cfbfa0>],\n",
       " 'fliers': [<matplotlib.lines.Line2D at 0x18e88d052b0>],\n",
       " 'means': []}"
      ]
     },
     "execution_count": 27,
     "metadata": {},
     "output_type": "execute_result"
    },
    {
     "data": {
      "image/png": "[encoded data removed]",
      "text/plain": [
       "<Figure size 640x480 with 1 Axes>"
      ]
     },
     "metadata": {},
     "output_type": "display_data"
    }
   ],
   "source": [
    "plt.boxplot(df['Land_Value'])"
   ]
  },
  {
   "cell_type": "code",
   "execution_count": 28,
   "id": "44e94be1",
   "metadata": {},
   "outputs": [],
   "source": [
    "# Creating Dummy Variables for our Dependent Variable:\n",
    "df = pd.get_dummies(df, columns=['Sale_Price_Compared_To_Value'],drop_first=True, dummy_na=False)"
   ]
  },
  {
   "cell_type": "code",
   "execution_count": 29,
   "id": "b12c6431",
   "metadata": {},
   "outputs": [
    {
     "data": {
      "text/plain": [
       "<AxesSubplot:>"
      ]
     },
     "execution_count": 29,
     "metadata": {},
     "output_type": "execute_result"
    },
    {
     "data": {
      "image/png": "[encoded data removed]",
      "text/plain": [
       "<Figure size 640x480 with 2 Axes>"
      ]
     },
     "metadata": {},
     "output_type": "display_data"
    }
   ],
   "source": [
    "# Correlation Plot:\n",
    "mask = np.triu(np.ones_like(df.corr()))\n",
    "sns.heatmap(df.corr(), cmap=\"YlGnBu\",annot=True, mask=mask)"
   ]
  },
  {
   "cell_type": "code",
   "execution_count": 30,
   "id": "5ac21cc6",
   "metadata": {},
   "outputs": [],
   "source": [
    "# One-Hot-Encoding:\n",
    "df1 = pd.get_dummies(df, columns=['Land_Use','Sold_As_Vacant', 'Multiple_Parcels_Involved_in_Sale', 'City', \n",
    "                                  'Tax_District', 'Foundation_Type', 'Exterior_Wall','Grade'], drop_first=True, dummy_na=False)"
   ]
  },
  {
   "cell_type": "code",
   "execution_count": 31,
   "id": "91d5ae94",
   "metadata": {},
   "outputs": [
    {
     "name": "stdout",
     "output_type": "stream",
     "text": [
      "Number of duplicate rows: 1455\n"
     ]
    }
   ],
   "source": [
    "# Checking for data duplication:\n",
    "duplicates = df1.duplicated()\n",
    "print(\"Number of duplicate rows:\", duplicates.sum())"
   ]
  },
  {
   "cell_type": "code",
   "execution_count": 32,
   "id": "f2615045",
   "metadata": {},
   "outputs": [
    {
     "data": {
      "text/html": [
       "<div>\n",
       "<style scoped>\n",
       "    .dataframe tbody tr th:only-of-type {\n",
       "        vertical-align: middle;\n",
       "    }\n",
       "\n",
       "    .dataframe tbody tr th {\n",
       "        vertical-align: top;\n",
       "    }\n",
       "\n",
       "    .dataframe thead th {\n",
       "        text-align: right;\n",
       "    }\n",
       "</style>\n",
       "<table border=\"1\" class=\"dataframe\">\n",
       "  <thead>\n",
       "    <tr style=\"text-align: right;\">\n",
       "      <th></th>\n",
       "      <th>Acreage</th>\n",
       "      <th>Neighborhood</th>\n",
       "      <th>Land_Value</th>\n",
       "      <th>Building_Value</th>\n",
       "      <th>Finished_Area</th>\n",
       "      <th>Bedrooms</th>\n",
       "      <th>Full_Bath</th>\n",
       "      <th>Half_Bath</th>\n",
       "      <th>Sale_Price_Compared_To_Value_Under</th>\n",
       "      <th>Land_Use_SINGLE FAMILY</th>\n",
       "      <th>...</th>\n",
       "      <th>Exterior_Wall_METAL</th>\n",
       "      <th>Exterior_Wall_STONE</th>\n",
       "      <th>Exterior_Wall_STUCCO</th>\n",
       "      <th>Grade_B</th>\n",
       "      <th>Grade_C</th>\n",
       "      <th>Grade_D</th>\n",
       "      <th>Grade_E</th>\n",
       "      <th>Grade_OFB</th>\n",
       "      <th>Grade_SSC</th>\n",
       "      <th>Grade_X</th>\n",
       "    </tr>\n",
       "  </thead>\n",
       "  <tbody>\n",
       "    <tr>\n",
       "      <th>0</th>\n",
       "      <td>0.17</td>\n",
       "      <td>3127</td>\n",
       "      <td>32000</td>\n",
       "      <td>134400</td>\n",
       "      <td>1149.00000</td>\n",
       "      <td>2.0</td>\n",
       "      <td>1.0</td>\n",
       "      <td>0.0</td>\n",
       "      <td>0</td>\n",
       "      <td>1</td>\n",
       "      <td>...</td>\n",
       "      <td>0</td>\n",
       "      <td>0</td>\n",
       "      <td>0</td>\n",
       "      <td>0</td>\n",
       "      <td>1</td>\n",
       "      <td>0</td>\n",
       "      <td>0</td>\n",
       "      <td>0</td>\n",
       "      <td>0</td>\n",
       "      <td>0</td>\n",
       "    </tr>\n",
       "    <tr>\n",
       "      <th>1</th>\n",
       "      <td>0.11</td>\n",
       "      <td>9126</td>\n",
       "      <td>34000</td>\n",
       "      <td>157800</td>\n",
       "      <td>2090.82495</td>\n",
       "      <td>3.0</td>\n",
       "      <td>2.0</td>\n",
       "      <td>1.0</td>\n",
       "      <td>0</td>\n",
       "      <td>1</td>\n",
       "      <td>...</td>\n",
       "      <td>0</td>\n",
       "      <td>0</td>\n",
       "      <td>0</td>\n",
       "      <td>0</td>\n",
       "      <td>1</td>\n",
       "      <td>0</td>\n",
       "      <td>0</td>\n",
       "      <td>0</td>\n",
       "      <td>0</td>\n",
       "      <td>0</td>\n",
       "    </tr>\n",
       "    <tr>\n",
       "      <th>2</th>\n",
       "      <td>0.17</td>\n",
       "      <td>3130</td>\n",
       "      <td>25000</td>\n",
       "      <td>243700</td>\n",
       "      <td>2145.60001</td>\n",
       "      <td>4.0</td>\n",
       "      <td>2.0</td>\n",
       "      <td>0.0</td>\n",
       "      <td>1</td>\n",
       "      <td>1</td>\n",
       "      <td>...</td>\n",
       "      <td>0</td>\n",
       "      <td>0</td>\n",
       "      <td>0</td>\n",
       "      <td>1</td>\n",
       "      <td>0</td>\n",
       "      <td>0</td>\n",
       "      <td>0</td>\n",
       "      <td>0</td>\n",
       "      <td>0</td>\n",
       "      <td>0</td>\n",
       "    </tr>\n",
       "    <tr>\n",
       "      <th>3</th>\n",
       "      <td>0.34</td>\n",
       "      <td>3130</td>\n",
       "      <td>25000</td>\n",
       "      <td>138100</td>\n",
       "      <td>1969.00000</td>\n",
       "      <td>2.0</td>\n",
       "      <td>1.0</td>\n",
       "      <td>0.0</td>\n",
       "      <td>1</td>\n",
       "      <td>1</td>\n",
       "      <td>...</td>\n",
       "      <td>0</td>\n",
       "      <td>0</td>\n",
       "      <td>0</td>\n",
       "      <td>0</td>\n",
       "      <td>1</td>\n",
       "      <td>0</td>\n",
       "      <td>0</td>\n",
       "      <td>0</td>\n",
       "      <td>0</td>\n",
       "      <td>0</td>\n",
       "    </tr>\n",
       "    <tr>\n",
       "      <th>4</th>\n",
       "      <td>0.17</td>\n",
       "      <td>3130</td>\n",
       "      <td>25000</td>\n",
       "      <td>86100</td>\n",
       "      <td>1037.00000</td>\n",
       "      <td>2.0</td>\n",
       "      <td>1.0</td>\n",
       "      <td>0.0</td>\n",
       "      <td>1</td>\n",
       "      <td>1</td>\n",
       "      <td>...</td>\n",
       "      <td>0</td>\n",
       "      <td>0</td>\n",
       "      <td>0</td>\n",
       "      <td>0</td>\n",
       "      <td>1</td>\n",
       "      <td>0</td>\n",
       "      <td>0</td>\n",
       "      <td>0</td>\n",
       "      <td>0</td>\n",
       "      <td>0</td>\n",
       "    </tr>\n",
       "    <tr>\n",
       "      <th>...</th>\n",
       "      <td>...</td>\n",
       "      <td>...</td>\n",
       "      <td>...</td>\n",
       "      <td>...</td>\n",
       "      <td>...</td>\n",
       "      <td>...</td>\n",
       "      <td>...</td>\n",
       "      <td>...</td>\n",
       "      <td>...</td>\n",
       "      <td>...</td>\n",
       "      <td>...</td>\n",
       "      <td>...</td>\n",
       "      <td>...</td>\n",
       "      <td>...</td>\n",
       "      <td>...</td>\n",
       "      <td>...</td>\n",
       "      <td>...</td>\n",
       "      <td>...</td>\n",
       "      <td>...</td>\n",
       "      <td>...</td>\n",
       "      <td>...</td>\n",
       "    </tr>\n",
       "    <tr>\n",
       "      <th>22645</th>\n",
       "      <td>0.24</td>\n",
       "      <td>6328</td>\n",
       "      <td>22000</td>\n",
       "      <td>74500</td>\n",
       "      <td>1311.00000</td>\n",
       "      <td>3.0</td>\n",
       "      <td>2.0</td>\n",
       "      <td>0.0</td>\n",
       "      <td>0</td>\n",
       "      <td>1</td>\n",
       "      <td>...</td>\n",
       "      <td>0</td>\n",
       "      <td>0</td>\n",
       "      <td>0</td>\n",
       "      <td>0</td>\n",
       "      <td>1</td>\n",
       "      <td>0</td>\n",
       "      <td>0</td>\n",
       "      <td>0</td>\n",
       "      <td>0</td>\n",
       "      <td>0</td>\n",
       "    </tr>\n",
       "    <tr>\n",
       "      <th>22646</th>\n",
       "      <td>0.38</td>\n",
       "      <td>6328</td>\n",
       "      <td>25000</td>\n",
       "      <td>105000</td>\n",
       "      <td>1758.00000</td>\n",
       "      <td>3.0</td>\n",
       "      <td>2.0</td>\n",
       "      <td>0.0</td>\n",
       "      <td>0</td>\n",
       "      <td>1</td>\n",
       "      <td>...</td>\n",
       "      <td>0</td>\n",
       "      <td>0</td>\n",
       "      <td>0</td>\n",
       "      <td>0</td>\n",
       "      <td>1</td>\n",
       "      <td>0</td>\n",
       "      <td>0</td>\n",
       "      <td>0</td>\n",
       "      <td>0</td>\n",
       "      <td>0</td>\n",
       "    </tr>\n",
       "    <tr>\n",
       "      <th>22647</th>\n",
       "      <td>0.27</td>\n",
       "      <td>6328</td>\n",
       "      <td>25000</td>\n",
       "      <td>142400</td>\n",
       "      <td>2421.00000</td>\n",
       "      <td>3.0</td>\n",
       "      <td>3.0</td>\n",
       "      <td>0.0</td>\n",
       "      <td>0</td>\n",
       "      <td>1</td>\n",
       "      <td>...</td>\n",
       "      <td>0</td>\n",
       "      <td>0</td>\n",
       "      <td>0</td>\n",
       "      <td>0</td>\n",
       "      <td>1</td>\n",
       "      <td>0</td>\n",
       "      <td>0</td>\n",
       "      <td>0</td>\n",
       "      <td>0</td>\n",
       "      <td>0</td>\n",
       "    </tr>\n",
       "    <tr>\n",
       "      <th>22648</th>\n",
       "      <td>0.23</td>\n",
       "      <td>6328</td>\n",
       "      <td>25000</td>\n",
       "      <td>159300</td>\n",
       "      <td>3117.00000</td>\n",
       "      <td>3.0</td>\n",
       "      <td>3.0</td>\n",
       "      <td>0.0</td>\n",
       "      <td>0</td>\n",
       "      <td>1</td>\n",
       "      <td>...</td>\n",
       "      <td>0</td>\n",
       "      <td>0</td>\n",
       "      <td>0</td>\n",
       "      <td>0</td>\n",
       "      <td>1</td>\n",
       "      <td>0</td>\n",
       "      <td>0</td>\n",
       "      <td>0</td>\n",
       "      <td>0</td>\n",
       "      <td>0</td>\n",
       "    </tr>\n",
       "    <tr>\n",
       "      <th>22650</th>\n",
       "      <td>0.19</td>\n",
       "      <td>126</td>\n",
       "      <td>40000</td>\n",
       "      <td>295900</td>\n",
       "      <td>2478.00000</td>\n",
       "      <td>4.0</td>\n",
       "      <td>3.0</td>\n",
       "      <td>1.0</td>\n",
       "      <td>0</td>\n",
       "      <td>1</td>\n",
       "      <td>...</td>\n",
       "      <td>0</td>\n",
       "      <td>0</td>\n",
       "      <td>0</td>\n",
       "      <td>1</td>\n",
       "      <td>0</td>\n",
       "      <td>0</td>\n",
       "      <td>0</td>\n",
       "      <td>0</td>\n",
       "      <td>0</td>\n",
       "      <td>0</td>\n",
       "    </tr>\n",
       "  </tbody>\n",
       "</table>\n",
       "<p>21081 rows × 45 columns</p>\n",
       "</div>"
      ],
      "text/plain": [
       "       Acreage  Neighborhood  Land_Value  Building_Value  Finished_Area  \\\n",
       "0         0.17          3127       32000          134400     1149.00000   \n",
       "1         0.11          9126       34000          157800     2090.82495   \n",
       "2         0.17          3130       25000          243700     2145.60001   \n",
       "3         0.34          3130       25000          138100     1969.00000   \n",
       "4         0.17          3130       25000           86100     1037.00000   \n",
       "...        ...           ...         ...             ...            ...   \n",
       "22645     0.24          6328       22000           74500     1311.00000   \n",
       "22646     0.38          6328       25000          105000     1758.00000   \n",
       "22647     0.27          6328       25000          142400     2421.00000   \n",
       "22648     0.23          6328       25000          159300     3117.00000   \n",
       "22650     0.19           126       40000          295900     2478.00000   \n",
       "\n",
       "       Bedrooms  Full_Bath  Half_Bath  Sale_Price_Compared_To_Value_Under  \\\n",
       "0           2.0        1.0        0.0                                   0   \n",
       "1           3.0        2.0        1.0                                   0   \n",
       "2           4.0        2.0        0.0                                   1   \n",
       "3           2.0        1.0        0.0                                   1   \n",
       "4           2.0        1.0        0.0                                   1   \n",
       "...         ...        ...        ...                                 ...   \n",
       "22645       3.0        2.0        0.0                                   0   \n",
       "22646       3.0        2.0        0.0                                   0   \n",
       "22647       3.0        3.0        0.0                                   0   \n",
       "22648       3.0        3.0        0.0                                   0   \n",
       "22650       4.0        3.0        1.0                                   0   \n",
       "\n",
       "       Land_Use_SINGLE FAMILY  ...  Exterior_Wall_METAL  Exterior_Wall_STONE  \\\n",
       "0                           1  ...                    0                    0   \n",
       "1                           1  ...                    0                    0   \n",
       "2                           1  ...                    0                    0   \n",
       "3                           1  ...                    0                    0   \n",
       "4                           1  ...                    0                    0   \n",
       "...                       ...  ...                  ...                  ...   \n",
       "22645                       1  ...                    0                    0   \n",
       "22646                       1  ...                    0                    0   \n",
       "22647                       1  ...                    0                    0   \n",
       "22648                       1  ...                    0                    0   \n",
       "22650                       1  ...                    0                    0   \n",
       "\n",
       "       Exterior_Wall_STUCCO  Grade_B     Grade_C     Grade_D     Grade_E     \\\n",
       "0                         0           0           1           0           0   \n",
       "1                         0           0           1           0           0   \n",
       "2                         0           1           0           0           0   \n",
       "3                         0           0           1           0           0   \n",
       "4                         0           0           1           0           0   \n",
       "...                     ...         ...         ...         ...         ...   \n",
       "22645                     0           0           1           0           0   \n",
       "22646                     0           0           1           0           0   \n",
       "22647                     0           0           1           0           0   \n",
       "22648                     0           0           1           0           0   \n",
       "22650                     0           1           0           0           0   \n",
       "\n",
       "       Grade_OFB   Grade_SSC   Grade_X     \n",
       "0               0           0           0  \n",
       "1               0           0           0  \n",
       "2               0           0           0  \n",
       "3               0           0           0  \n",
       "4               0           0           0  \n",
       "...           ...         ...         ...  \n",
       "22645           0           0           0  \n",
       "22646           0           0           0  \n",
       "22647           0           0           0  \n",
       "22648           0           0           0  \n",
       "22650           0           0           0  \n",
       "\n",
       "[21081 rows x 45 columns]"
      ]
     },
     "execution_count": 32,
     "metadata": {},
     "output_type": "execute_result"
    }
   ],
   "source": [
    "df1.drop_duplicates()"
   ]
  },
  {
   "cell_type": "code",
   "execution_count": 33,
   "id": "1de4ad33",
   "metadata": {},
   "outputs": [
    {
     "name": "stdout",
     "output_type": "stream",
     "text": [
      "The dataframe does not have linearly dependent rows.\n"
     ]
    }
   ],
   "source": [
    "# Check if the rank is equal to the number of columns\n",
    "rank = np.linalg.matrix_rank(df1.values)\n",
    "if rank < df1.shape[1]:\n",
    "    print(\"The dataframe has linearly dependent rows.\")\n",
    "else:\n",
    "    print(\"The dataframe does not have linearly dependent rows.\")"
   ]
  },
  {
   "cell_type": "code",
   "execution_count": 34,
   "id": "e1850fb2",
   "metadata": {},
   "outputs": [
    {
     "name": "stderr",
     "output_type": "stream",
     "text": [
      "C:\\Users\\rsaga\\anaconda3\\lib\\site-packages\\statsmodels\\discrete\\discrete_model.py:1819: RuntimeWarning: overflow encountered in exp\n",
      "  return 1/(1+np.exp(-X))\n",
      "C:\\Users\\rsaga\\anaconda3\\lib\\site-packages\\statsmodels\\discrete\\discrete_model.py:1872: RuntimeWarning: divide by zero encountered in log\n",
      "  return np.sum(np.log(self.cdf(q*np.dot(X,params))))\n",
      "C:\\Users\\rsaga\\anaconda3\\lib\\site-packages\\statsmodels\\base\\model.py:604: ConvergenceWarning: Maximum Likelihood optimization failed to converge. Check mle_retvals\n",
      "  warnings.warn(\"Maximum Likelihood optimization failed to \"\n",
      "C:\\Users\\rsaga\\anaconda3\\lib\\site-packages\\statsmodels\\base\\model.py:592: HessianInversionWarning: Inverting hessian failed, no bse or cov_params available\n",
      "  warnings.warn('Inverting hessian failed, no bse or cov_params '\n",
      "C:\\Users\\rsaga\\anaconda3\\lib\\site-packages\\statsmodels\\base\\model.py:592: HessianInversionWarning: Inverting hessian failed, no bse or cov_params available\n",
      "  warnings.warn('Inverting hessian failed, no bse or cov_params '\n",
      "C:\\Users\\rsaga\\anaconda3\\lib\\site-packages\\sklearn\\utils\\validation.py:993: DataConversionWarning: A column-vector y was passed when a 1d array was expected. Please change the shape of y to (n_samples, ), for example using ravel().\n",
      "  y = column_or_1d(y, warn=True)\n"
     ]
    },
    {
     "name": "stdout",
     "output_type": "stream",
     "text": [
      "Warning: Maximum number of iterations has been exceeded.\n",
      "         Current function value: inf\n",
      "         Iterations: 35\n",
      "                                   Logit Regression Results                                   \n",
      "==============================================================================================\n",
      "Dep. Variable:     Sale_Price_Compared_To_Value_Under   No. Observations:                13521\n",
      "Model:                                          Logit   Df Residuals:                    13476\n",
      "Method:                                           MLE   Df Model:                           44\n",
      "Date:                                Sat, 17 Jun 2023   Pseudo R-squ.:                     inf\n",
      "Time:                                        20:21:23   Log-Likelihood:                   -inf\n",
      "converged:                                      False   LL-Null:                        0.0000\n",
      "Covariance Type:                            nonrobust   LLR p-value:                     1.000\n",
      "==========================================================================================================\n",
      "                                             coef    std err          z      P>|z|      [0.025      0.975]\n",
      "----------------------------------------------------------------------------------------------------------\n",
      "const                                      0.6514      0.408      1.595      0.111      -0.149       1.452\n",
      "Acreage                                    0.0698      0.040      1.767      0.077      -0.008       0.147\n",
      "Neighborhood                           -1.493e-05   1.57e-05     -0.949      0.343   -4.58e-05    1.59e-05\n",
      "Land_Value                             -2.945e-06   3.96e-07     -7.440      0.000   -3.72e-06   -2.17e-06\n",
      "Building_Value                          1.299e-06   2.68e-07      4.849      0.000    7.74e-07    1.82e-06\n",
      "Finished_Area                          -3.181e-05   5.25e-05     -0.606      0.544      -0.000    7.11e-05\n",
      "Bedrooms                                   0.0307      0.034      0.904      0.366      -0.036       0.097\n",
      "Full_Bath                                  0.0495      0.040      1.249      0.212      -0.028       0.127\n",
      "Half_Bath                                  0.0689      0.050      1.385      0.166      -0.029       0.166\n",
      "Land_Use_SINGLE FAMILY                    -0.3063      0.093     -3.279      0.001      -0.489      -0.123\n",
      "Sold_As_Vacant_Yes                         3.1204      0.358      8.727      0.000       2.420       3.821\n",
      "Multiple_Parcels_Involved_in_Sale_Yes     -0.5493      0.163     -3.371      0.001      -0.869      -0.230\n",
      "City_BRENTWOOD                            -0.1258      0.297     -0.423      0.672      -0.709       0.457\n",
      "City_GOODLETTSVILLE                        0.9988      0.349      2.862      0.004       0.315       1.683\n",
      "City_HERMITAGE                             0.6475      0.197      3.291      0.001       0.262       1.033\n",
      "City_JOELTON                               1.2231      0.854      1.433      0.152      -0.450       2.896\n",
      "City_MADISON                               1.4699      0.185      7.962      0.000       1.108       1.832\n",
      "City_MOUNT JULIET                          1.9583      1.446      1.354      0.176      -0.876       4.793\n",
      "City_NASHVILLE                             0.4005      0.115      3.471      0.001       0.174       0.627\n",
      "City_OLD HICKORY                           1.2507      0.195      6.407      0.000       0.868       1.633\n",
      "City_WHITES CREEK                          0.0697      1.091      0.064      0.949      -2.069       2.208\n",
      "Tax_District_CITY OF BERRY HILL           -2.0238      0.826     -2.450      0.014      -3.643      -0.405\n",
      "Tax_District_CITY OF FOREST HILLS         -0.7424      0.270     -2.751      0.006      -1.271      -0.213\n",
      "Tax_District_CITY OF GOODLETTSVILLE       -1.9976      0.452     -4.417      0.000      -2.884      -1.111\n",
      "Tax_District_CITY OF OAK HILL             -1.2143      0.285     -4.262      0.000      -1.773      -0.656\n",
      "Tax_District_GENERAL SERVICES DISTRICT    -2.2374      0.305     -7.327      0.000      -2.836      -1.639\n",
      "Tax_District_URBAN SERVICES DISTRICT      -1.7176      0.287     -5.985      0.000      -2.280      -1.155\n",
      "Foundation_Type_FULL BSMT                  0.0952      0.058      1.644      0.100      -0.018       0.209\n",
      "Foundation_Type_PT BSMT                    0.0516      0.063      0.819      0.413      -0.072       0.175\n",
      "Foundation_Type_SLAB                      -0.0484      0.093     -0.522      0.602      -0.230       0.134\n",
      "Exterior_Wall_BRICK/FRAME                 -0.0950      0.078     -1.222      0.222      -0.247       0.057\n",
      "Exterior_Wall_CONC BLK                     0.3687      0.309      1.195      0.232      -0.236       0.973\n",
      "Exterior_Wall_FRAME                       -0.0628      0.051     -1.225      0.221      -0.163       0.038\n",
      "Exterior_Wall_FRAME/STONE                  0.1562      0.279      0.559      0.576      -0.391       0.704\n",
      "Exterior_Wall_LOG                         -0.3383      0.789     -0.429      0.668      -1.886       1.209\n",
      "Exterior_Wall_METAL                      -14.4122   1075.395     -0.013      0.989   -2122.147    2093.323\n",
      "Exterior_Wall_STONE                        0.0848      0.166      0.509      0.611      -0.241       0.411\n",
      "Exterior_Wall_STUCCO                      -0.3789      0.253     -1.497      0.134      -0.875       0.117\n",
      "Grade_B                                   -0.2222      0.142     -1.568      0.117      -0.500       0.056\n",
      "Grade_C                                   -0.4036      0.156     -2.582      0.010      -0.710      -0.097\n",
      "Grade_D                                   -0.2158      0.180     -1.198      0.231      -0.569       0.137\n",
      "Grade_E                                    0.5540      0.402      1.377      0.168      -0.234       1.342\n",
      "Grade_OFB                                -18.7392   1.82e+04     -0.001      0.999   -3.58e+04    3.57e+04\n",
      "Grade_SSC                                 27.8521   6.86e+05   4.06e-05      1.000   -1.35e+06    1.35e+06\n",
      "Grade_X                                   -0.2319      0.203     -1.140      0.254      -0.631       0.167\n",
      "==========================================================================================================\n",
      "              precision    recall  f1-score   support\n",
      "\n",
      "           0       0.76      1.00      0.86      6800\n",
      "           1       0.44      0.01      0.02      2215\n",
      "\n",
      "    accuracy                           0.75      9015\n",
      "   macro avg       0.60      0.50      0.44      9015\n",
      "weighted avg       0.68      0.75      0.65      9015\n",
      "\n"
     ]
    }
   ],
   "source": [
    "# Model 1: Logistic Regression Model:\n",
    "\n",
    "from statsmodels.stats.outliers_influence import variance_inflation_factor\n",
    "y_logr=df1[['Sale_Price_Compared_To_Value_Under']]\n",
    "x_logr=df1.drop(['Sale_Price_Compared_To_Value_Under'],axis=1)\n",
    "\n",
    "from sklearn.model_selection import train_test_split\n",
    "x_train, x_test, z_train, z_test = train_test_split(x_logr, y_logr, test_size=0.40)\n",
    "\n",
    "Xlog2 = sm.add_constant(x_train) \n",
    "logr_model = sm.Logit(z_train, Xlog2) \n",
    "logr_fit = logr_model.fit()\n",
    "print(logr_fit.summary())\n",
    "\n",
    "import sklearn.metrics as metrics\n",
    "from sklearn.linear_model import LogisticRegression\n",
    "from sklearn.metrics import confusion_matrix, classification_report, accuracy_score\n",
    "\n",
    "logreg = LogisticRegression()\n",
    "\n",
    "logreg.fit(x_train,z_train)\n",
    "z_pred=logreg.predict(x_test)\n",
    "cnf_matrix = metrics.confusion_matrix(z_test, z_pred)\n",
    "cnf_matrix # Confussion Matrix\n",
    "# model.score(x_test, z_test)\n",
    "\n",
    "class_report = classification_report(z_test, z_pred) # Classification Report:\n",
    "print(class_report)"
   ]
  },
  {
   "cell_type": "code",
   "execution_count": 35,
   "id": "36681718",
   "metadata": {},
   "outputs": [
    {
     "data": {
      "text/plain": [
       "DecisionTreeClassifier(max_depth=4, min_samples_leaf=5, random_state=42)"
      ]
     },
     "execution_count": 35,
     "metadata": {},
     "output_type": "execute_result"
    }
   ],
   "source": [
    "# Model 2: Decision Tree Model:\n",
    "dt_model = DecisionTreeClassifier(criterion=\"gini\", random_state=42,max_depth=4, min_samples_leaf=5)   \n",
    "dt_model.fit(x_train,z_train)"
   ]
  },
  {
   "cell_type": "code",
   "execution_count": 36,
   "id": "28b3bc20",
   "metadata": {},
   "outputs": [
    {
     "data": {
      "text/plain": [
       "0.7546311702717693"
      ]
     },
     "execution_count": 36,
     "metadata": {},
     "output_type": "execute_result"
    }
   ],
   "source": [
    "# Accuracy:\n",
    "z_predict = dt_model.predict(x_test)\n",
    "accuracy_score(z_test,z_predict)"
   ]
  },
  {
   "cell_type": "code",
   "execution_count": 37,
   "id": "dfefc4c5",
   "metadata": {},
   "outputs": [
    {
     "name": "stdout",
     "output_type": "stream",
     "text": [
      "[[6672  128]\n",
      " [2084  131]]\n",
      "              precision    recall  f1-score   support\n",
      "\n",
      "           0       0.76      0.98      0.86      6800\n",
      "           1       0.51      0.06      0.11      2215\n",
      "\n",
      "    accuracy                           0.75      9015\n",
      "   macro avg       0.63      0.52      0.48      9015\n",
      "weighted avg       0.70      0.75      0.67      9015\n",
      "\n"
     ]
    }
   ],
   "source": [
    "# Confussion Matrix:\n",
    "print(confusion_matrix(z_test, z_predict))\n",
    "# Classification Report:\n",
    "print(classification_report(z_test, z_predict))"
   ]
  },
  {
   "cell_type": "code",
   "execution_count": 38,
   "id": "325dd389",
   "metadata": {},
   "outputs": [
    {
     "name": "stdout",
     "output_type": "stream",
     "text": [
      "Requirement already satisfied: graphviz in c:\\users\\rsaga\\anaconda3\\lib\\site-packages (0.20.1)\n",
      "Note: you may need to restart the kernel to use updated packages.\n"
     ]
    }
   ],
   "source": [
    "pip install graphviz"
   ]
  },
  {
   "cell_type": "code",
   "execution_count": 39,
   "id": "939344de",
   "metadata": {},
   "outputs": [],
   "source": [
    "from sklearn import tree\n",
    "from sklearn.tree import export_graphviz\n",
    "import graphviz"
   ]
  },
  {
   "cell_type": "code",
   "execution_count": 40,
   "id": "be09b08a",
   "metadata": {},
   "outputs": [
    {
     "data": {
      "text/plain": [
       "'housing_decision_tree.pdf'"
      ]
     },
     "execution_count": 40,
     "metadata": {},
     "output_type": "execute_result"
    }
   ],
   "source": [
    "dot_data = tree.export_graphviz(dt_model, out_file=None, feature_names=x_logr.columns, filled=True, rounded=True, special_characters=True)\n",
    "graph = graphviz.Source(dot_data)\n",
    "graph.render(\"housing_decision_tree\")"
   ]
  },
  {
   "cell_type": "code",
   "execution_count": 41,
   "id": "f8f450aa",
   "metadata": {},
   "outputs": [
    {
     "data": {
      "text/html": [
       "<div>\n",
       "<style scoped>\n",
       "    .dataframe tbody tr th:only-of-type {\n",
       "        vertical-align: middle;\n",
       "    }\n",
       "\n",
       "    .dataframe tbody tr th {\n",
       "        vertical-align: top;\n",
       "    }\n",
       "\n",
       "    .dataframe thead th {\n",
       "        text-align: right;\n",
       "    }\n",
       "</style>\n",
       "<table border=\"1\" class=\"dataframe\">\n",
       "  <thead>\n",
       "    <tr style=\"text-align: right;\">\n",
       "      <th></th>\n",
       "      <th>Feature</th>\n",
       "      <th>Importance</th>\n",
       "    </tr>\n",
       "  </thead>\n",
       "  <tbody>\n",
       "    <tr>\n",
       "      <th>0</th>\n",
       "      <td>Sold_As_Vacant_Yes</td>\n",
       "      <td>0.373056</td>\n",
       "    </tr>\n",
       "    <tr>\n",
       "      <th>1</th>\n",
       "      <td>Building_Value</td>\n",
       "      <td>0.276894</td>\n",
       "    </tr>\n",
       "    <tr>\n",
       "      <th>2</th>\n",
       "      <td>Land_Value</td>\n",
       "      <td>0.270195</td>\n",
       "    </tr>\n",
       "    <tr>\n",
       "      <th>3</th>\n",
       "      <td>Neighborhood</td>\n",
       "      <td>0.070855</td>\n",
       "    </tr>\n",
       "    <tr>\n",
       "      <th>4</th>\n",
       "      <td>Finished_Area</td>\n",
       "      <td>0.009000</td>\n",
       "    </tr>\n",
       "    <tr>\n",
       "      <th>5</th>\n",
       "      <td>Acreage</td>\n",
       "      <td>0.000000</td>\n",
       "    </tr>\n",
       "    <tr>\n",
       "      <th>6</th>\n",
       "      <td>Bedrooms</td>\n",
       "      <td>0.000000</td>\n",
       "    </tr>\n",
       "    <tr>\n",
       "      <th>7</th>\n",
       "      <td>Full_Bath</td>\n",
       "      <td>0.000000</td>\n",
       "    </tr>\n",
       "    <tr>\n",
       "      <th>8</th>\n",
       "      <td>Half_Bath</td>\n",
       "      <td>0.000000</td>\n",
       "    </tr>\n",
       "    <tr>\n",
       "      <th>9</th>\n",
       "      <td>Land_Use_SINGLE FAMILY</td>\n",
       "      <td>0.000000</td>\n",
       "    </tr>\n",
       "    <tr>\n",
       "      <th>10</th>\n",
       "      <td>Multiple_Parcels_Involved_in_Sale_Yes</td>\n",
       "      <td>0.000000</td>\n",
       "    </tr>\n",
       "    <tr>\n",
       "      <th>11</th>\n",
       "      <td>City_BRENTWOOD</td>\n",
       "      <td>0.000000</td>\n",
       "    </tr>\n",
       "    <tr>\n",
       "      <th>12</th>\n",
       "      <td>City_GOODLETTSVILLE</td>\n",
       "      <td>0.000000</td>\n",
       "    </tr>\n",
       "    <tr>\n",
       "      <th>13</th>\n",
       "      <td>City_HERMITAGE</td>\n",
       "      <td>0.000000</td>\n",
       "    </tr>\n",
       "    <tr>\n",
       "      <th>14</th>\n",
       "      <td>City_JOELTON</td>\n",
       "      <td>0.000000</td>\n",
       "    </tr>\n",
       "    <tr>\n",
       "      <th>15</th>\n",
       "      <td>City_MADISON</td>\n",
       "      <td>0.000000</td>\n",
       "    </tr>\n",
       "    <tr>\n",
       "      <th>16</th>\n",
       "      <td>City_MOUNT JULIET</td>\n",
       "      <td>0.000000</td>\n",
       "    </tr>\n",
       "    <tr>\n",
       "      <th>17</th>\n",
       "      <td>City_NASHVILLE</td>\n",
       "      <td>0.000000</td>\n",
       "    </tr>\n",
       "    <tr>\n",
       "      <th>18</th>\n",
       "      <td>City_OLD HICKORY</td>\n",
       "      <td>0.000000</td>\n",
       "    </tr>\n",
       "    <tr>\n",
       "      <th>19</th>\n",
       "      <td>City_WHITES CREEK</td>\n",
       "      <td>0.000000</td>\n",
       "    </tr>\n",
       "    <tr>\n",
       "      <th>20</th>\n",
       "      <td>Tax_District_CITY OF BERRY HILL</td>\n",
       "      <td>0.000000</td>\n",
       "    </tr>\n",
       "    <tr>\n",
       "      <th>21</th>\n",
       "      <td>Tax_District_CITY OF FOREST HILLS</td>\n",
       "      <td>0.000000</td>\n",
       "    </tr>\n",
       "    <tr>\n",
       "      <th>22</th>\n",
       "      <td>Tax_District_CITY OF GOODLETTSVILLE</td>\n",
       "      <td>0.000000</td>\n",
       "    </tr>\n",
       "    <tr>\n",
       "      <th>23</th>\n",
       "      <td>Tax_District_CITY OF OAK HILL</td>\n",
       "      <td>0.000000</td>\n",
       "    </tr>\n",
       "    <tr>\n",
       "      <th>24</th>\n",
       "      <td>Tax_District_GENERAL SERVICES DISTRICT</td>\n",
       "      <td>0.000000</td>\n",
       "    </tr>\n",
       "    <tr>\n",
       "      <th>25</th>\n",
       "      <td>Tax_District_URBAN SERVICES DISTRICT</td>\n",
       "      <td>0.000000</td>\n",
       "    </tr>\n",
       "    <tr>\n",
       "      <th>26</th>\n",
       "      <td>Foundation_Type_FULL BSMT</td>\n",
       "      <td>0.000000</td>\n",
       "    </tr>\n",
       "    <tr>\n",
       "      <th>27</th>\n",
       "      <td>Foundation_Type_PT BSMT</td>\n",
       "      <td>0.000000</td>\n",
       "    </tr>\n",
       "    <tr>\n",
       "      <th>28</th>\n",
       "      <td>Foundation_Type_SLAB</td>\n",
       "      <td>0.000000</td>\n",
       "    </tr>\n",
       "    <tr>\n",
       "      <th>29</th>\n",
       "      <td>Exterior_Wall_BRICK/FRAME</td>\n",
       "      <td>0.000000</td>\n",
       "    </tr>\n",
       "    <tr>\n",
       "      <th>30</th>\n",
       "      <td>Exterior_Wall_CONC BLK</td>\n",
       "      <td>0.000000</td>\n",
       "    </tr>\n",
       "    <tr>\n",
       "      <th>31</th>\n",
       "      <td>Exterior_Wall_FRAME</td>\n",
       "      <td>0.000000</td>\n",
       "    </tr>\n",
       "    <tr>\n",
       "      <th>32</th>\n",
       "      <td>Exterior_Wall_FRAME/STONE</td>\n",
       "      <td>0.000000</td>\n",
       "    </tr>\n",
       "    <tr>\n",
       "      <th>33</th>\n",
       "      <td>Exterior_Wall_LOG</td>\n",
       "      <td>0.000000</td>\n",
       "    </tr>\n",
       "    <tr>\n",
       "      <th>34</th>\n",
       "      <td>Exterior_Wall_METAL</td>\n",
       "      <td>0.000000</td>\n",
       "    </tr>\n",
       "    <tr>\n",
       "      <th>35</th>\n",
       "      <td>Exterior_Wall_STONE</td>\n",
       "      <td>0.000000</td>\n",
       "    </tr>\n",
       "    <tr>\n",
       "      <th>36</th>\n",
       "      <td>Exterior_Wall_STUCCO</td>\n",
       "      <td>0.000000</td>\n",
       "    </tr>\n",
       "    <tr>\n",
       "      <th>37</th>\n",
       "      <td>Grade_B</td>\n",
       "      <td>0.000000</td>\n",
       "    </tr>\n",
       "    <tr>\n",
       "      <th>38</th>\n",
       "      <td>Grade_C</td>\n",
       "      <td>0.000000</td>\n",
       "    </tr>\n",
       "    <tr>\n",
       "      <th>39</th>\n",
       "      <td>Grade_D</td>\n",
       "      <td>0.000000</td>\n",
       "    </tr>\n",
       "    <tr>\n",
       "      <th>40</th>\n",
       "      <td>Grade_E</td>\n",
       "      <td>0.000000</td>\n",
       "    </tr>\n",
       "    <tr>\n",
       "      <th>41</th>\n",
       "      <td>Grade_OFB</td>\n",
       "      <td>0.000000</td>\n",
       "    </tr>\n",
       "    <tr>\n",
       "      <th>42</th>\n",
       "      <td>Grade_SSC</td>\n",
       "      <td>0.000000</td>\n",
       "    </tr>\n",
       "    <tr>\n",
       "      <th>43</th>\n",
       "      <td>Grade_X</td>\n",
       "      <td>0.000000</td>\n",
       "    </tr>\n",
       "  </tbody>\n",
       "</table>\n",
       "</div>"
      ],
      "text/plain": [
       "                                   Feature  Importance\n",
       "0                       Sold_As_Vacant_Yes    0.373056\n",
       "1                           Building_Value    0.276894\n",
       "2                               Land_Value    0.270195\n",
       "3                             Neighborhood    0.070855\n",
       "4                            Finished_Area    0.009000\n",
       "5                                  Acreage    0.000000\n",
       "6                                 Bedrooms    0.000000\n",
       "7                                Full_Bath    0.000000\n",
       "8                                Half_Bath    0.000000\n",
       "9                   Land_Use_SINGLE FAMILY    0.000000\n",
       "10   Multiple_Parcels_Involved_in_Sale_Yes    0.000000\n",
       "11                          City_BRENTWOOD    0.000000\n",
       "12                     City_GOODLETTSVILLE    0.000000\n",
       "13                          City_HERMITAGE    0.000000\n",
       "14                            City_JOELTON    0.000000\n",
       "15                            City_MADISON    0.000000\n",
       "16                       City_MOUNT JULIET    0.000000\n",
       "17                          City_NASHVILLE    0.000000\n",
       "18                        City_OLD HICKORY    0.000000\n",
       "19                       City_WHITES CREEK    0.000000\n",
       "20         Tax_District_CITY OF BERRY HILL    0.000000\n",
       "21       Tax_District_CITY OF FOREST HILLS    0.000000\n",
       "22     Tax_District_CITY OF GOODLETTSVILLE    0.000000\n",
       "23           Tax_District_CITY OF OAK HILL    0.000000\n",
       "24  Tax_District_GENERAL SERVICES DISTRICT    0.000000\n",
       "25    Tax_District_URBAN SERVICES DISTRICT    0.000000\n",
       "26               Foundation_Type_FULL BSMT    0.000000\n",
       "27                 Foundation_Type_PT BSMT    0.000000\n",
       "28                    Foundation_Type_SLAB    0.000000\n",
       "29               Exterior_Wall_BRICK/FRAME    0.000000\n",
       "30                  Exterior_Wall_CONC BLK    0.000000\n",
       "31                     Exterior_Wall_FRAME    0.000000\n",
       "32               Exterior_Wall_FRAME/STONE    0.000000\n",
       "33                       Exterior_Wall_LOG    0.000000\n",
       "34                     Exterior_Wall_METAL    0.000000\n",
       "35                     Exterior_Wall_STONE    0.000000\n",
       "36                    Exterior_Wall_STUCCO    0.000000\n",
       "37                              Grade_B       0.000000\n",
       "38                              Grade_C       0.000000\n",
       "39                              Grade_D       0.000000\n",
       "40                              Grade_E       0.000000\n",
       "41                              Grade_OFB     0.000000\n",
       "42                              Grade_SSC     0.000000\n",
       "43                              Grade_X       0.000000"
      ]
     },
     "execution_count": 41,
     "metadata": {},
     "output_type": "execute_result"
    }
   ],
   "source": [
    "# Feature Importance\n",
    "importances = dt_model.feature_importances_\n",
    "indices = np.argsort(importances)\n",
    "feat_dict= {}\n",
    "for col, val in sorted(zip(x_train.columns, dt_model.feature_importances_),key=lambda x:x[1],reverse=True):\n",
    "  feat_dict[col]=val\n",
    "feat_df = pd.DataFrame({'Feature':feat_dict.keys(),'Importance':feat_dict.values()})\n",
    "feat_df"
   ]
  },
  {
   "cell_type": "code",
   "execution_count": 42,
   "id": "cb526468",
   "metadata": {},
   "outputs": [
    {
     "name": "stderr",
     "output_type": "stream",
     "text": [
      "C:\\Users\\rsaga\\AppData\\Local\\Temp\\ipykernel_8624\\3979616885.py:5: DataConversionWarning: A column-vector y was passed when a 1d array was expected. Please change the shape of y to (n_samples,), for example using ravel().\n",
      "  rf_model.fit(x_train,z_train)\n"
     ]
    },
    {
     "data": {
      "text/plain": [
       "RandomForestClassifier(max_depth=4, random_state=42)"
      ]
     },
     "execution_count": 42,
     "metadata": {},
     "output_type": "execute_result"
    }
   ],
   "source": [
    "# Model 3: Random Forest Model:\n",
    "\n",
    "from sklearn.ensemble import RandomForestClassifier\n",
    "rf_model = RandomForestClassifier(random_state=42,max_depth=4)   \n",
    "rf_model.fit(x_train,z_train)"
   ]
  },
  {
   "cell_type": "code",
   "execution_count": 43,
   "id": "7b4e936c",
   "metadata": {},
   "outputs": [
    {
     "data": {
      "text/plain": [
       "0.7580698835274542"
      ]
     },
     "execution_count": 43,
     "metadata": {},
     "output_type": "execute_result"
    }
   ],
   "source": [
    "zrf_predict = rf_model.predict(x_test)\n",
    "from sklearn.metrics import accuracy_score,classification_report,confusion_matrix\n",
    "accuracy_score(z_test,zrf_predict)  # Accuracy"
   ]
  },
  {
   "cell_type": "code",
   "execution_count": 44,
   "id": "63accb88",
   "metadata": {},
   "outputs": [
    {
     "name": "stdout",
     "output_type": "stream",
     "text": [
      "[[6796    4]\n",
      " [2177   38]]\n",
      "              precision    recall  f1-score   support\n",
      "\n",
      "           0       0.76      1.00      0.86      6800\n",
      "           1       0.90      0.02      0.03      2215\n",
      "\n",
      "    accuracy                           0.76      9015\n",
      "   macro avg       0.83      0.51      0.45      9015\n",
      "weighted avg       0.79      0.76      0.66      9015\n",
      "\n"
     ]
    }
   ],
   "source": [
    "# Confusion Matrix\n",
    "print(confusion_matrix(z_test, zrf_predict))\n",
    "print(classification_report(z_test, zrf_predict))"
   ]
  },
  {
   "cell_type": "code",
   "execution_count": 45,
   "id": "ca4f6e24",
   "metadata": {},
   "outputs": [
    {
     "data": {
      "text/html": [
       "<div>\n",
       "<style scoped>\n",
       "    .dataframe tbody tr th:only-of-type {\n",
       "        vertical-align: middle;\n",
       "    }\n",
       "\n",
       "    .dataframe tbody tr th {\n",
       "        vertical-align: top;\n",
       "    }\n",
       "\n",
       "    .dataframe thead th {\n",
       "        text-align: right;\n",
       "    }\n",
       "</style>\n",
       "<table border=\"1\" class=\"dataframe\">\n",
       "  <thead>\n",
       "    <tr style=\"text-align: right;\">\n",
       "      <th></th>\n",
       "      <th>Feature</th>\n",
       "      <th>Importance</th>\n",
       "    </tr>\n",
       "  </thead>\n",
       "  <tbody>\n",
       "    <tr>\n",
       "      <th>0</th>\n",
       "      <td>Sold_As_Vacant_Yes</td>\n",
       "      <td>0.233952</td>\n",
       "    </tr>\n",
       "    <tr>\n",
       "      <th>1</th>\n",
       "      <td>Building_Value</td>\n",
       "      <td>0.162378</td>\n",
       "    </tr>\n",
       "    <tr>\n",
       "      <th>2</th>\n",
       "      <td>Finished_Area</td>\n",
       "      <td>0.112583</td>\n",
       "    </tr>\n",
       "    <tr>\n",
       "      <th>3</th>\n",
       "      <td>Land_Value</td>\n",
       "      <td>0.108903</td>\n",
       "    </tr>\n",
       "    <tr>\n",
       "      <th>4</th>\n",
       "      <td>Full_Bath</td>\n",
       "      <td>0.076929</td>\n",
       "    </tr>\n",
       "    <tr>\n",
       "      <th>5</th>\n",
       "      <td>Acreage</td>\n",
       "      <td>0.048156</td>\n",
       "    </tr>\n",
       "    <tr>\n",
       "      <th>6</th>\n",
       "      <td>Neighborhood</td>\n",
       "      <td>0.044184</td>\n",
       "    </tr>\n",
       "    <tr>\n",
       "      <th>7</th>\n",
       "      <td>Grade_C</td>\n",
       "      <td>0.044039</td>\n",
       "    </tr>\n",
       "    <tr>\n",
       "      <th>8</th>\n",
       "      <td>Bedrooms</td>\n",
       "      <td>0.025860</td>\n",
       "    </tr>\n",
       "    <tr>\n",
       "      <th>9</th>\n",
       "      <td>City_MADISON</td>\n",
       "      <td>0.022243</td>\n",
       "    </tr>\n",
       "    <tr>\n",
       "      <th>10</th>\n",
       "      <td>Grade_X</td>\n",
       "      <td>0.021535</td>\n",
       "    </tr>\n",
       "    <tr>\n",
       "      <th>11</th>\n",
       "      <td>Half_Bath</td>\n",
       "      <td>0.013611</td>\n",
       "    </tr>\n",
       "    <tr>\n",
       "      <th>12</th>\n",
       "      <td>Tax_District_URBAN SERVICES DISTRICT</td>\n",
       "      <td>0.008761</td>\n",
       "    </tr>\n",
       "    <tr>\n",
       "      <th>13</th>\n",
       "      <td>City_OLD HICKORY</td>\n",
       "      <td>0.006606</td>\n",
       "    </tr>\n",
       "    <tr>\n",
       "      <th>14</th>\n",
       "      <td>Grade_B</td>\n",
       "      <td>0.006262</td>\n",
       "    </tr>\n",
       "    <tr>\n",
       "      <th>15</th>\n",
       "      <td>Land_Use_SINGLE FAMILY</td>\n",
       "      <td>0.005970</td>\n",
       "    </tr>\n",
       "    <tr>\n",
       "      <th>16</th>\n",
       "      <td>City_HERMITAGE</td>\n",
       "      <td>0.005554</td>\n",
       "    </tr>\n",
       "    <tr>\n",
       "      <th>17</th>\n",
       "      <td>Multiple_Parcels_Involved_in_Sale_Yes</td>\n",
       "      <td>0.005134</td>\n",
       "    </tr>\n",
       "    <tr>\n",
       "      <th>18</th>\n",
       "      <td>Exterior_Wall_FRAME</td>\n",
       "      <td>0.004829</td>\n",
       "    </tr>\n",
       "    <tr>\n",
       "      <th>19</th>\n",
       "      <td>Exterior_Wall_STUCCO</td>\n",
       "      <td>0.004491</td>\n",
       "    </tr>\n",
       "    <tr>\n",
       "      <th>20</th>\n",
       "      <td>Tax_District_GENERAL SERVICES DISTRICT</td>\n",
       "      <td>0.004090</td>\n",
       "    </tr>\n",
       "    <tr>\n",
       "      <th>21</th>\n",
       "      <td>Foundation_Type_PT BSMT</td>\n",
       "      <td>0.003612</td>\n",
       "    </tr>\n",
       "    <tr>\n",
       "      <th>22</th>\n",
       "      <td>Tax_District_CITY OF OAK HILL</td>\n",
       "      <td>0.003544</td>\n",
       "    </tr>\n",
       "    <tr>\n",
       "      <th>23</th>\n",
       "      <td>City_NASHVILLE</td>\n",
       "      <td>0.003301</td>\n",
       "    </tr>\n",
       "    <tr>\n",
       "      <th>24</th>\n",
       "      <td>Exterior_Wall_BRICK/FRAME</td>\n",
       "      <td>0.003284</td>\n",
       "    </tr>\n",
       "    <tr>\n",
       "      <th>25</th>\n",
       "      <td>Foundation_Type_FULL BSMT</td>\n",
       "      <td>0.002901</td>\n",
       "    </tr>\n",
       "    <tr>\n",
       "      <th>26</th>\n",
       "      <td>Tax_District_CITY OF FOREST HILLS</td>\n",
       "      <td>0.002205</td>\n",
       "    </tr>\n",
       "    <tr>\n",
       "      <th>27</th>\n",
       "      <td>Grade_D</td>\n",
       "      <td>0.002183</td>\n",
       "    </tr>\n",
       "    <tr>\n",
       "      <th>28</th>\n",
       "      <td>City_BRENTWOOD</td>\n",
       "      <td>0.002108</td>\n",
       "    </tr>\n",
       "    <tr>\n",
       "      <th>29</th>\n",
       "      <td>Foundation_Type_SLAB</td>\n",
       "      <td>0.001941</td>\n",
       "    </tr>\n",
       "    <tr>\n",
       "      <th>30</th>\n",
       "      <td>Tax_District_CITY OF GOODLETTSVILLE</td>\n",
       "      <td>0.001840</td>\n",
       "    </tr>\n",
       "    <tr>\n",
       "      <th>31</th>\n",
       "      <td>Exterior_Wall_FRAME/STONE</td>\n",
       "      <td>0.001741</td>\n",
       "    </tr>\n",
       "    <tr>\n",
       "      <th>32</th>\n",
       "      <td>Exterior_Wall_CONC BLK</td>\n",
       "      <td>0.001570</td>\n",
       "    </tr>\n",
       "    <tr>\n",
       "      <th>33</th>\n",
       "      <td>City_GOODLETTSVILLE</td>\n",
       "      <td>0.001331</td>\n",
       "    </tr>\n",
       "    <tr>\n",
       "      <th>34</th>\n",
       "      <td>Exterior_Wall_STONE</td>\n",
       "      <td>0.000553</td>\n",
       "    </tr>\n",
       "    <tr>\n",
       "      <th>35</th>\n",
       "      <td>Grade_SSC</td>\n",
       "      <td>0.000503</td>\n",
       "    </tr>\n",
       "    <tr>\n",
       "      <th>36</th>\n",
       "      <td>Exterior_Wall_LOG</td>\n",
       "      <td>0.000326</td>\n",
       "    </tr>\n",
       "    <tr>\n",
       "      <th>37</th>\n",
       "      <td>Grade_E</td>\n",
       "      <td>0.000292</td>\n",
       "    </tr>\n",
       "    <tr>\n",
       "      <th>38</th>\n",
       "      <td>Exterior_Wall_METAL</td>\n",
       "      <td>0.000276</td>\n",
       "    </tr>\n",
       "    <tr>\n",
       "      <th>39</th>\n",
       "      <td>City_WHITES CREEK</td>\n",
       "      <td>0.000185</td>\n",
       "    </tr>\n",
       "    <tr>\n",
       "      <th>40</th>\n",
       "      <td>City_JOELTON</td>\n",
       "      <td>0.000133</td>\n",
       "    </tr>\n",
       "    <tr>\n",
       "      <th>41</th>\n",
       "      <td>City_MOUNT JULIET</td>\n",
       "      <td>0.000098</td>\n",
       "    </tr>\n",
       "    <tr>\n",
       "      <th>42</th>\n",
       "      <td>Tax_District_CITY OF BERRY HILL</td>\n",
       "      <td>0.000000</td>\n",
       "    </tr>\n",
       "    <tr>\n",
       "      <th>43</th>\n",
       "      <td>Grade_OFB</td>\n",
       "      <td>0.000000</td>\n",
       "    </tr>\n",
       "  </tbody>\n",
       "</table>\n",
       "</div>"
      ],
      "text/plain": [
       "                                   Feature  Importance\n",
       "0                       Sold_As_Vacant_Yes    0.233952\n",
       "1                           Building_Value    0.162378\n",
       "2                            Finished_Area    0.112583\n",
       "3                               Land_Value    0.108903\n",
       "4                                Full_Bath    0.076929\n",
       "5                                  Acreage    0.048156\n",
       "6                             Neighborhood    0.044184\n",
       "7                               Grade_C       0.044039\n",
       "8                                 Bedrooms    0.025860\n",
       "9                             City_MADISON    0.022243\n",
       "10                              Grade_X       0.021535\n",
       "11                               Half_Bath    0.013611\n",
       "12    Tax_District_URBAN SERVICES DISTRICT    0.008761\n",
       "13                        City_OLD HICKORY    0.006606\n",
       "14                              Grade_B       0.006262\n",
       "15                  Land_Use_SINGLE FAMILY    0.005970\n",
       "16                          City_HERMITAGE    0.005554\n",
       "17   Multiple_Parcels_Involved_in_Sale_Yes    0.005134\n",
       "18                     Exterior_Wall_FRAME    0.004829\n",
       "19                    Exterior_Wall_STUCCO    0.004491\n",
       "20  Tax_District_GENERAL SERVICES DISTRICT    0.004090\n",
       "21                 Foundation_Type_PT BSMT    0.003612\n",
       "22           Tax_District_CITY OF OAK HILL    0.003544\n",
       "23                          City_NASHVILLE    0.003301\n",
       "24               Exterior_Wall_BRICK/FRAME    0.003284\n",
       "25               Foundation_Type_FULL BSMT    0.002901\n",
       "26       Tax_District_CITY OF FOREST HILLS    0.002205\n",
       "27                              Grade_D       0.002183\n",
       "28                          City_BRENTWOOD    0.002108\n",
       "29                    Foundation_Type_SLAB    0.001941\n",
       "30     Tax_District_CITY OF GOODLETTSVILLE    0.001840\n",
       "31               Exterior_Wall_FRAME/STONE    0.001741\n",
       "32                  Exterior_Wall_CONC BLK    0.001570\n",
       "33                     City_GOODLETTSVILLE    0.001331\n",
       "34                     Exterior_Wall_STONE    0.000553\n",
       "35                              Grade_SSC     0.000503\n",
       "36                       Exterior_Wall_LOG    0.000326\n",
       "37                              Grade_E       0.000292\n",
       "38                     Exterior_Wall_METAL    0.000276\n",
       "39                       City_WHITES CREEK    0.000185\n",
       "40                            City_JOELTON    0.000133\n",
       "41                       City_MOUNT JULIET    0.000098\n",
       "42         Tax_District_CITY OF BERRY HILL    0.000000\n",
       "43                              Grade_OFB     0.000000"
      ]
     },
     "execution_count": 45,
     "metadata": {},
     "output_type": "execute_result"
    }
   ],
   "source": [
    "# Feature Importance\n",
    "importances = rf_model.feature_importances_\n",
    "indices = np.argsort(importances)\n",
    "feat_dict1= {}\n",
    "for col, val in sorted(zip(x_train.columns, rf_model.feature_importances_),key=lambda x:x[1],reverse=True):\n",
    "  feat_dict1[col]=val\n",
    "feat_df1 = pd.DataFrame({'Feature':feat_dict1.keys(),'Importance':feat_dict1.values()})\n",
    "feat_df1"
   ]
  },
  {
   "cell_type": "code",
   "execution_count": 46,
   "id": "3cf00035",
   "metadata": {},
   "outputs": [
    {
     "name": "stdout",
     "output_type": "stream",
     "text": [
      "Feature ranking:\n",
      "1. feature 9 (0.000000)\n",
      "2. feature 3 (0.000000)\n",
      "3. feature 4 (0.000098)\n",
      "4. feature 2 (0.000133)\n",
      "5. feature 6 (0.000185)\n",
      "6. feature 0 (0.000276)\n",
      "7. feature 1 (0.000292)\n",
      "8. feature 38 (0.000326)\n",
      "9. feature 5 (0.000503)\n",
      "10. feature 15 (0.000553)\n",
      "11. feature 43 (0.001331)\n",
      "12. feature 7 (0.001570)\n",
      "13. feature 25 (0.001741)\n",
      "14. feature 18 (0.001840)\n",
      "15. feature 37 (0.001941)\n",
      "16. feature 8 (0.002108)\n",
      "17. feature 13 (0.002183)\n",
      "18. feature 10 (0.002205)\n",
      "19. feature 31 (0.002901)\n",
      "20. feature 36 (0.003284)\n",
      "21. feature 24 (0.003301)\n",
      "22. feature 27 (0.003544)\n",
      "23. feature 23 (0.003612)\n",
      "24. feature 17 (0.004090)\n",
      "25. feature 29 (0.004491)\n",
      "26. feature 26 (0.004829)\n",
      "27. feature 21 (0.005134)\n",
      "28. feature 39 (0.005554)\n",
      "29. feature 11 (0.005970)\n",
      "30. feature 28 (0.006262)\n",
      "31. feature 22 (0.006606)\n",
      "32. feature 32 (0.008761)\n",
      "33. feature 30 (0.013611)\n",
      "34. feature 12 (0.021535)\n",
      "35. feature 35 (0.022243)\n",
      "36. feature 42 (0.025860)\n",
      "37. feature 33 (0.044039)\n",
      "38. feature 40 (0.044184)\n",
      "39. feature 34 (0.048156)\n",
      "40. feature 19 (0.076929)\n",
      "41. feature 14 (0.108903)\n",
      "42. feature 16 (0.112583)\n",
      "43. feature 20 (0.162378)\n",
      "44. feature 41 (0.233952)\n"
     ]
    },
    {
     "data": {
      "image/png": "[encoded data removed]",
      "text/plain": [
       "<Figure size 640x480 with 1 Axes>"
      ]
     },
     "metadata": {},
     "output_type": "display_data"
    }
   ],
   "source": [
    "importances_rf = rf_model.feature_importances_\n",
    "std = np.std([tree.feature_importances_ for tree in rf_model.estimators_], axis=0)\n",
    "indices_rf = np.argsort(importances_rf)[::-1]\n",
    "# Print the feature ranking\n",
    "print(\"Feature ranking:\")\n",
    "for f in range(x_train.shape[1]):\n",
    "    print(\"%d. feature %d (%f)\" % (f + 1, indices_rf[f], importances_rf[indices[f]]))\n",
    "# Plot the feature importances of the forest\n",
    "plt.figure()\n",
    "plt.title(\"Feature importances\")\n",
    "plt.bar(range(x_train.shape[1]), importances_rf[indices], color=\"r\", yerr=std[indices_rf], align=\"center\")\n",
    "plt.xticks(range(x_train.shape[1]), indices_rf)\n",
    "plt.xlim([-1, x_train.shape[1]])\n",
    "plt.show()"
   ]
  },
  {
   "cell_type": "code",
   "execution_count": 47,
   "id": "c1bacbf4",
   "metadata": {},
   "outputs": [
    {
     "name": "stderr",
     "output_type": "stream",
     "text": [
      "C:\\Users\\rsaga\\anaconda3\\lib\\site-packages\\sklearn\\ensemble\\_gb.py:494: DataConversionWarning: A column-vector y was passed when a 1d array was expected. Please change the shape of y to (n_samples, ), for example using ravel().\n",
      "  y = column_or_1d(y, warn=True)\n"
     ]
    },
    {
     "data": {
      "text/plain": [
       "GradientBoostingClassifier(max_depth=4, random_state=42)"
      ]
     },
     "execution_count": 47,
     "metadata": {},
     "output_type": "execute_result"
    }
   ],
   "source": [
    "# Model 4: Gradient Boosting Model\n",
    "gb_model = GradientBoostingClassifier(random_state=42,max_depth=4)   \n",
    "gb_model.fit(x_train,z_train)"
   ]
  },
  {
   "cell_type": "code",
   "execution_count": 48,
   "id": "74b419a1",
   "metadata": {},
   "outputs": [
    {
     "data": {
      "text/plain": [
       "0.7590682196339434"
      ]
     },
     "execution_count": 48,
     "metadata": {},
     "output_type": "execute_result"
    }
   ],
   "source": [
    "zgb_predict = gb_model.predict(x_test)\n",
    "accuracy_score(z_test,zgb_predict) # Accuracy"
   ]
  },
  {
   "cell_type": "code",
   "execution_count": 49,
   "id": "0312adb1",
   "metadata": {},
   "outputs": [
    {
     "name": "stdout",
     "output_type": "stream",
     "text": [
      "[[6695  105]\n",
      " [2067  148]]\n",
      "              precision    recall  f1-score   support\n",
      "\n",
      "           0       0.76      0.98      0.86      6800\n",
      "           1       0.58      0.07      0.12      2215\n",
      "\n",
      "    accuracy                           0.76      9015\n",
      "   macro avg       0.67      0.53      0.49      9015\n",
      "weighted avg       0.72      0.76      0.68      9015\n",
      "\n"
     ]
    }
   ],
   "source": [
    "print(confusion_matrix(z_test, zgb_predict))\n",
    "print(classification_report(z_test, zgb_predict))"
   ]
  },
  {
   "cell_type": "code",
   "execution_count": 55,
   "id": "49e83c1e",
   "metadata": {},
   "outputs": [
    {
     "data": {
      "text/html": [
       "<div>\n",
       "<style scoped>\n",
       "    .dataframe tbody tr th:only-of-type {\n",
       "        vertical-align: middle;\n",
       "    }\n",
       "\n",
       "    .dataframe tbody tr th {\n",
       "        vertical-align: top;\n",
       "    }\n",
       "\n",
       "    .dataframe thead th {\n",
       "        text-align: right;\n",
       "    }\n",
       "</style>\n",
       "<table border=\"1\" class=\"dataframe\">\n",
       "  <thead>\n",
       "    <tr style=\"text-align: right;\">\n",
       "      <th></th>\n",
       "      <th>Feature</th>\n",
       "      <th>Importance</th>\n",
       "    </tr>\n",
       "  </thead>\n",
       "  <tbody>\n",
       "    <tr>\n",
       "      <th>0</th>\n",
       "      <td>Building_Value</td>\n",
       "      <td>2.603118e-01</td>\n",
       "    </tr>\n",
       "    <tr>\n",
       "      <th>1</th>\n",
       "      <td>Land_Value</td>\n",
       "      <td>1.985981e-01</td>\n",
       "    </tr>\n",
       "    <tr>\n",
       "      <th>2</th>\n",
       "      <td>Sold_As_Vacant_Yes</td>\n",
       "      <td>1.107184e-01</td>\n",
       "    </tr>\n",
       "    <tr>\n",
       "      <th>3</th>\n",
       "      <td>Finished_Area</td>\n",
       "      <td>1.088758e-01</td>\n",
       "    </tr>\n",
       "    <tr>\n",
       "      <th>4</th>\n",
       "      <td>Acreage</td>\n",
       "      <td>8.960166e-02</td>\n",
       "    </tr>\n",
       "    <tr>\n",
       "      <th>5</th>\n",
       "      <td>Neighborhood</td>\n",
       "      <td>7.726702e-02</td>\n",
       "    </tr>\n",
       "    <tr>\n",
       "      <th>6</th>\n",
       "      <td>Full_Bath</td>\n",
       "      <td>2.414811e-02</td>\n",
       "    </tr>\n",
       "    <tr>\n",
       "      <th>7</th>\n",
       "      <td>Land_Use_SINGLE FAMILY</td>\n",
       "      <td>2.290634e-02</td>\n",
       "    </tr>\n",
       "    <tr>\n",
       "      <th>8</th>\n",
       "      <td>Bedrooms</td>\n",
       "      <td>1.962644e-02</td>\n",
       "    </tr>\n",
       "    <tr>\n",
       "      <th>9</th>\n",
       "      <td>Multiple_Parcels_Involved_in_Sale_Yes</td>\n",
       "      <td>1.437920e-02</td>\n",
       "    </tr>\n",
       "    <tr>\n",
       "      <th>10</th>\n",
       "      <td>Foundation_Type_FULL BSMT</td>\n",
       "      <td>9.094638e-03</td>\n",
       "    </tr>\n",
       "    <tr>\n",
       "      <th>11</th>\n",
       "      <td>City_OLD HICKORY</td>\n",
       "      <td>8.007025e-03</td>\n",
       "    </tr>\n",
       "    <tr>\n",
       "      <th>12</th>\n",
       "      <td>City_MADISON</td>\n",
       "      <td>7.166339e-03</td>\n",
       "    </tr>\n",
       "    <tr>\n",
       "      <th>13</th>\n",
       "      <td>Exterior_Wall_STUCCO</td>\n",
       "      <td>6.451076e-03</td>\n",
       "    </tr>\n",
       "    <tr>\n",
       "      <th>14</th>\n",
       "      <td>Half_Bath</td>\n",
       "      <td>4.542568e-03</td>\n",
       "    </tr>\n",
       "    <tr>\n",
       "      <th>15</th>\n",
       "      <td>Foundation_Type_PT BSMT</td>\n",
       "      <td>4.395362e-03</td>\n",
       "    </tr>\n",
       "    <tr>\n",
       "      <th>16</th>\n",
       "      <td>Exterior_Wall_BRICK/FRAME</td>\n",
       "      <td>3.898437e-03</td>\n",
       "    </tr>\n",
       "    <tr>\n",
       "      <th>17</th>\n",
       "      <td>City_NASHVILLE</td>\n",
       "      <td>3.397224e-03</td>\n",
       "    </tr>\n",
       "    <tr>\n",
       "      <th>18</th>\n",
       "      <td>Grade_E</td>\n",
       "      <td>2.866351e-03</td>\n",
       "    </tr>\n",
       "    <tr>\n",
       "      <th>19</th>\n",
       "      <td>Exterior_Wall_CONC BLK</td>\n",
       "      <td>2.733742e-03</td>\n",
       "    </tr>\n",
       "    <tr>\n",
       "      <th>20</th>\n",
       "      <td>Foundation_Type_SLAB</td>\n",
       "      <td>2.674714e-03</td>\n",
       "    </tr>\n",
       "    <tr>\n",
       "      <th>21</th>\n",
       "      <td>Exterior_Wall_FRAME</td>\n",
       "      <td>2.369940e-03</td>\n",
       "    </tr>\n",
       "    <tr>\n",
       "      <th>22</th>\n",
       "      <td>City_GOODLETTSVILLE</td>\n",
       "      <td>2.298267e-03</td>\n",
       "    </tr>\n",
       "    <tr>\n",
       "      <th>23</th>\n",
       "      <td>Tax_District_URBAN SERVICES DISTRICT</td>\n",
       "      <td>1.945685e-03</td>\n",
       "    </tr>\n",
       "    <tr>\n",
       "      <th>24</th>\n",
       "      <td>Grade_C</td>\n",
       "      <td>1.576776e-03</td>\n",
       "    </tr>\n",
       "    <tr>\n",
       "      <th>25</th>\n",
       "      <td>Grade_SSC</td>\n",
       "      <td>1.482593e-03</td>\n",
       "    </tr>\n",
       "    <tr>\n",
       "      <th>26</th>\n",
       "      <td>Grade_D</td>\n",
       "      <td>1.466740e-03</td>\n",
       "    </tr>\n",
       "    <tr>\n",
       "      <th>27</th>\n",
       "      <td>Exterior_Wall_STONE</td>\n",
       "      <td>1.445884e-03</td>\n",
       "    </tr>\n",
       "    <tr>\n",
       "      <th>28</th>\n",
       "      <td>Tax_District_GENERAL SERVICES DISTRICT</td>\n",
       "      <td>1.274713e-03</td>\n",
       "    </tr>\n",
       "    <tr>\n",
       "      <th>29</th>\n",
       "      <td>City_BRENTWOOD</td>\n",
       "      <td>1.009031e-03</td>\n",
       "    </tr>\n",
       "    <tr>\n",
       "      <th>30</th>\n",
       "      <td>Exterior_Wall_FRAME/STONE</td>\n",
       "      <td>9.359595e-04</td>\n",
       "    </tr>\n",
       "    <tr>\n",
       "      <th>31</th>\n",
       "      <td>City_MOUNT JULIET</td>\n",
       "      <td>9.080523e-04</td>\n",
       "    </tr>\n",
       "    <tr>\n",
       "      <th>32</th>\n",
       "      <td>City_HERMITAGE</td>\n",
       "      <td>7.444913e-04</td>\n",
       "    </tr>\n",
       "    <tr>\n",
       "      <th>33</th>\n",
       "      <td>Exterior_Wall_METAL</td>\n",
       "      <td>7.221171e-04</td>\n",
       "    </tr>\n",
       "    <tr>\n",
       "      <th>34</th>\n",
       "      <td>Grade_B</td>\n",
       "      <td>1.428292e-04</td>\n",
       "    </tr>\n",
       "    <tr>\n",
       "      <th>35</th>\n",
       "      <td>Tax_District_CITY OF OAK HILL</td>\n",
       "      <td>1.612495e-05</td>\n",
       "    </tr>\n",
       "    <tr>\n",
       "      <th>36</th>\n",
       "      <td>Tax_District_CITY OF FOREST HILLS</td>\n",
       "      <td>3.741666e-07</td>\n",
       "    </tr>\n",
       "    <tr>\n",
       "      <th>37</th>\n",
       "      <td>City_JOELTON</td>\n",
       "      <td>0.000000e+00</td>\n",
       "    </tr>\n",
       "    <tr>\n",
       "      <th>38</th>\n",
       "      <td>City_WHITES CREEK</td>\n",
       "      <td>0.000000e+00</td>\n",
       "    </tr>\n",
       "    <tr>\n",
       "      <th>39</th>\n",
       "      <td>Tax_District_CITY OF BERRY HILL</td>\n",
       "      <td>0.000000e+00</td>\n",
       "    </tr>\n",
       "    <tr>\n",
       "      <th>40</th>\n",
       "      <td>Tax_District_CITY OF GOODLETTSVILLE</td>\n",
       "      <td>0.000000e+00</td>\n",
       "    </tr>\n",
       "    <tr>\n",
       "      <th>41</th>\n",
       "      <td>Exterior_Wall_LOG</td>\n",
       "      <td>0.000000e+00</td>\n",
       "    </tr>\n",
       "    <tr>\n",
       "      <th>42</th>\n",
       "      <td>Grade_OFB</td>\n",
       "      <td>0.000000e+00</td>\n",
       "    </tr>\n",
       "    <tr>\n",
       "      <th>43</th>\n",
       "      <td>Grade_X</td>\n",
       "      <td>0.000000e+00</td>\n",
       "    </tr>\n",
       "  </tbody>\n",
       "</table>\n",
       "</div>"
      ],
      "text/plain": [
       "                                   Feature    Importance\n",
       "0                           Building_Value  2.603118e-01\n",
       "1                               Land_Value  1.985981e-01\n",
       "2                       Sold_As_Vacant_Yes  1.107184e-01\n",
       "3                            Finished_Area  1.088758e-01\n",
       "4                                  Acreage  8.960166e-02\n",
       "5                             Neighborhood  7.726702e-02\n",
       "6                                Full_Bath  2.414811e-02\n",
       "7                   Land_Use_SINGLE FAMILY  2.290634e-02\n",
       "8                                 Bedrooms  1.962644e-02\n",
       "9    Multiple_Parcels_Involved_in_Sale_Yes  1.437920e-02\n",
       "10               Foundation_Type_FULL BSMT  9.094638e-03\n",
       "11                        City_OLD HICKORY  8.007025e-03\n",
       "12                            City_MADISON  7.166339e-03\n",
       "13                    Exterior_Wall_STUCCO  6.451076e-03\n",
       "14                               Half_Bath  4.542568e-03\n",
       "15                 Foundation_Type_PT BSMT  4.395362e-03\n",
       "16               Exterior_Wall_BRICK/FRAME  3.898437e-03\n",
       "17                          City_NASHVILLE  3.397224e-03\n",
       "18                              Grade_E     2.866351e-03\n",
       "19                  Exterior_Wall_CONC BLK  2.733742e-03\n",
       "20                    Foundation_Type_SLAB  2.674714e-03\n",
       "21                     Exterior_Wall_FRAME  2.369940e-03\n",
       "22                     City_GOODLETTSVILLE  2.298267e-03\n",
       "23    Tax_District_URBAN SERVICES DISTRICT  1.945685e-03\n",
       "24                              Grade_C     1.576776e-03\n",
       "25                              Grade_SSC   1.482593e-03\n",
       "26                              Grade_D     1.466740e-03\n",
       "27                     Exterior_Wall_STONE  1.445884e-03\n",
       "28  Tax_District_GENERAL SERVICES DISTRICT  1.274713e-03\n",
       "29                          City_BRENTWOOD  1.009031e-03\n",
       "30               Exterior_Wall_FRAME/STONE  9.359595e-04\n",
       "31                       City_MOUNT JULIET  9.080523e-04\n",
       "32                          City_HERMITAGE  7.444913e-04\n",
       "33                     Exterior_Wall_METAL  7.221171e-04\n",
       "34                              Grade_B     1.428292e-04\n",
       "35           Tax_District_CITY OF OAK HILL  1.612495e-05\n",
       "36       Tax_District_CITY OF FOREST HILLS  3.741666e-07\n",
       "37                            City_JOELTON  0.000000e+00\n",
       "38                       City_WHITES CREEK  0.000000e+00\n",
       "39         Tax_District_CITY OF BERRY HILL  0.000000e+00\n",
       "40     Tax_District_CITY OF GOODLETTSVILLE  0.000000e+00\n",
       "41                       Exterior_Wall_LOG  0.000000e+00\n",
       "42                              Grade_OFB   0.000000e+00\n",
       "43                              Grade_X     0.000000e+00"
      ]
     },
     "execution_count": 55,
     "metadata": {},
     "output_type": "execute_result"
    }
   ],
   "source": [
    "# Feature Importance\n",
    "importances_gbc = gb_model.feature_importances_\n",
    "indices_gbc = np.argsort(importances)\n",
    "feat_dict2= {}\n",
    "for col, val in sorted(zip(x_train.columns, gb_model.feature_importances_),key=lambda x:x[1],reverse=True):\n",
    "  feat_dict2[col]=val\n",
    "feat_df2 = pd.DataFrame({'Feature':feat_dict2.keys(),'Importance':feat_dict2.values()})\n",
    "feat_df2"
   ]
  },
  {
   "cell_type": "code",
   "execution_count": null,
   "id": "fdc4b938",
   "metadata": {},
   "outputs": [],
   "source": []
  }
 ],
 "metadata": {
  "kernelspec": {
   "display_name": "Python 3 (ipykernel)",
   "language": "python",
   "name": "python3"
  },
  "language_info": {
   "codemirror_mode": {
    "name": "ipython",
    "version": 3
   },
   "file_extension": ".py",
   "mimetype": "text/x-python",
   "name": "python",
   "nbconvert_exporter": "python",
   "pygments_lexer": "ipython3",
   "version": "3.9.13"
  }
 },
 "nbformat": 4,
 "nbformat_minor": 5
}
